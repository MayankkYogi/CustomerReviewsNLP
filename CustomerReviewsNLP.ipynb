{
 "cells": [
  {
   "cell_type": "code",
   "execution_count": 4,
   "metadata": {},
   "outputs": [],
   "source": [
    "import pandas as pd\n",
    "import matplotlib.pyplot as plt\n",
    "import seaborn as sns\n",
    "import nltk\n",
    "from datetime import datetime"
   ]
  },
  {
   "cell_type": "code",
   "execution_count": 5,
   "metadata": {},
   "outputs": [],
   "source": [
    "train_data = pd.read_json(r\"C:\\Users\\Mayank.Yogi\\Desktop\\Data Trained\\FlipRobo\\Project\\product-review-summarization-project\\Cell_Phones_and_Accessories.json\")"
   ]
  },
  {
   "cell_type": "code",
   "execution_count": 6,
   "metadata": {},
   "outputs": [
    {
     "name": "stdout",
     "output_type": "stream",
     "text": [
      "The dataset contains  760,450 rows and  11 variables.\n"
     ]
    },
    {
     "data": {
      "text/html": [
       "<div>\n",
       "<style scoped>\n",
       "    .dataframe tbody tr th:only-of-type {\n",
       "        vertical-align: middle;\n",
       "    }\n",
       "\n",
       "    .dataframe tbody tr th {\n",
       "        vertical-align: top;\n",
       "    }\n",
       "\n",
       "    .dataframe thead th {\n",
       "        text-align: right;\n",
       "    }\n",
       "</style>\n",
       "<table border=\"1\" class=\"dataframe\">\n",
       "  <thead>\n",
       "    <tr style=\"text-align: right;\">\n",
       "      <th></th>\n",
       "      <th>Rating</th>\n",
       "      <th>Rev_verify</th>\n",
       "      <th>Review_Date</th>\n",
       "      <th>IC</th>\n",
       "      <th>Prod_meta</th>\n",
       "      <th>Reviewer_Name</th>\n",
       "      <th>Review</th>\n",
       "      <th>Rev_summ</th>\n",
       "      <th>Review_timestamp</th>\n",
       "      <th>Useful</th>\n",
       "      <th>Prod_img</th>\n",
       "    </tr>\n",
       "  </thead>\n",
       "  <tbody>\n",
       "    <tr>\n",
       "      <th>0</th>\n",
       "      <td>5</td>\n",
       "      <td>True</td>\n",
       "      <td>09 1, 2015</td>\n",
       "      <td>B009XD5TPQ</td>\n",
       "      <td>None</td>\n",
       "      <td>Sunny  Zoeller</td>\n",
       "      <td>Bought it for my husband. He's very happy with it</td>\n",
       "      <td>He's very happy with</td>\n",
       "      <td>1441065600</td>\n",
       "      <td>None</td>\n",
       "      <td>None</td>\n",
       "    </tr>\n",
       "    <tr>\n",
       "      <th>1</th>\n",
       "      <td>5</td>\n",
       "      <td>True</td>\n",
       "      <td>01 9, 2016</td>\n",
       "      <td>B016MF3P3K</td>\n",
       "      <td>None</td>\n",
       "      <td>Denise Lesley</td>\n",
       "      <td>Great screen protector.  Doesn't even seem as ...</td>\n",
       "      <td>Five Stars</td>\n",
       "      <td>1452297600</td>\n",
       "      <td>None</td>\n",
       "      <td>None</td>\n",
       "    </tr>\n",
       "    <tr>\n",
       "      <th>2</th>\n",
       "      <td>5</td>\n",
       "      <td>True</td>\n",
       "      <td>04 21, 2013</td>\n",
       "      <td>B008DC8N5G</td>\n",
       "      <td>None</td>\n",
       "      <td>Emir</td>\n",
       "      <td>Saved me lots of money! it's not gorilla glass...</td>\n",
       "      <td>As long as you know how to put it on!</td>\n",
       "      <td>1366502400</td>\n",
       "      <td>None</td>\n",
       "      <td>None</td>\n",
       "    </tr>\n",
       "    <tr>\n",
       "      <th>3</th>\n",
       "      <td>3</td>\n",
       "      <td>True</td>\n",
       "      <td>02 27, 2013</td>\n",
       "      <td>B0089CH3TM</td>\n",
       "      <td>{'Color:': ' Green'}</td>\n",
       "      <td>Alyse</td>\n",
       "      <td>The material and fit is very nice, but the col...</td>\n",
       "      <td>Good case overall</td>\n",
       "      <td>1361923200</td>\n",
       "      <td>3</td>\n",
       "      <td>None</td>\n",
       "    </tr>\n",
       "    <tr>\n",
       "      <th>4</th>\n",
       "      <td>4</td>\n",
       "      <td>True</td>\n",
       "      <td>12 19, 2013</td>\n",
       "      <td>B00AKZWGAC</td>\n",
       "      <td>None</td>\n",
       "      <td>TechGuy</td>\n",
       "      <td>This last me about 3 days till i have to charg...</td>\n",
       "      <td>Awesome Battery</td>\n",
       "      <td>1387411200</td>\n",
       "      <td>None</td>\n",
       "      <td>None</td>\n",
       "    </tr>\n",
       "  </tbody>\n",
       "</table>\n",
       "</div>"
      ],
      "text/plain": [
       "   Rating  Rev_verify  Review_Date          IC             Prod_meta  \\\n",
       "0       5        True   09 1, 2015  B009XD5TPQ                  None   \n",
       "1       5        True   01 9, 2016  B016MF3P3K                  None   \n",
       "2       5        True  04 21, 2013  B008DC8N5G                  None   \n",
       "3       3        True  02 27, 2013  B0089CH3TM  {'Color:': ' Green'}   \n",
       "4       4        True  12 19, 2013  B00AKZWGAC                  None   \n",
       "\n",
       "    Reviewer_Name                                             Review  \\\n",
       "0  Sunny  Zoeller  Bought it for my husband. He's very happy with it   \n",
       "1   Denise Lesley  Great screen protector.  Doesn't even seem as ...   \n",
       "2            Emir  Saved me lots of money! it's not gorilla glass...   \n",
       "3           Alyse  The material and fit is very nice, but the col...   \n",
       "4         TechGuy  This last me about 3 days till i have to charg...   \n",
       "\n",
       "                                Rev_summ  Review_timestamp Useful Prod_img  \n",
       "0                   He's very happy with        1441065600   None     None  \n",
       "1                             Five Stars        1452297600   None     None  \n",
       "2  As long as you know how to put it on!        1366502400   None     None  \n",
       "3                      Good case overall        1361923200      3     None  \n",
       "4                        Awesome Battery        1387411200   None     None  "
      ]
     },
     "execution_count": 6,
     "metadata": {},
     "output_type": "execute_result"
    }
   ],
   "source": [
    "print(\"The dataset contains {0[0]: ,.0f} rows and {0[1]: .0f} variables.\".format(train_data.shape))\n",
    "train_data.head()"
   ]
  },
  {
   "cell_type": "code",
   "execution_count": 7,
   "metadata": {},
   "outputs": [
    {
     "data": {
      "text/plain": [
       "0   2015-09-01\n",
       "1   2016-01-09\n",
       "2   2013-04-21\n",
       "3   2013-02-27\n",
       "4   2013-12-19\n",
       "Name: Review_Date, dtype: datetime64[ns]"
      ]
     },
     "execution_count": 7,
     "metadata": {},
     "output_type": "execute_result"
    }
   ],
   "source": [
    "# Convert string into datetime\n",
    "\n",
    "train_data[\"Review_Date\"] = train_data[\"Review_Date\"].apply(lambda x: datetime.strptime(x, '%m %d, %Y'))\n",
    "train_data[\"Review_Date\"].head()"
   ]
  },
  {
   "cell_type": "code",
   "execution_count": 8,
   "metadata": {},
   "outputs": [
    {
     "data": {
      "text/plain": [
       "B00VH88CJ0    1127\n",
       "B005NF5NTK    1106\n",
       "B019PV2I3G    1033\n",
       "B00X5RV14Y    1018\n",
       "B00P7N0320    1011\n",
       "              ... \n",
       "B01G2LFEHY       1\n",
       "B004EKCU1E       1\n",
       "B017RBHYVW       1\n",
       "B019G1RRI6       1\n",
       "B010ONDJ1O       1\n",
       "Name: IC, Length: 48134, dtype: int64"
      ]
     },
     "execution_count": 8,
     "metadata": {},
     "output_type": "execute_result"
    }
   ],
   "source": [
    "train_data.IC.value_counts()"
   ]
  },
  {
   "cell_type": "code",
   "execution_count": 9,
   "metadata": {},
   "outputs": [
    {
     "data": {
      "text/plain": [
       "Rating                   0\n",
       "Rev_verify               0\n",
       "Review_Date              0\n",
       "IC                       0\n",
       "Prod_meta           352624\n",
       "Reviewer_Name           91\n",
       "Review                 530\n",
       "Rev_summ               355\n",
       "Review_timestamp         0\n",
       "Useful              698250\n",
       "Prod_img            742256\n",
       "dtype: int64"
      ]
     },
     "execution_count": 9,
     "metadata": {},
     "output_type": "execute_result"
    }
   ],
   "source": [
    "train_data.isnull().sum()"
   ]
  },
  {
   "cell_type": "code",
   "execution_count": 10,
   "metadata": {},
   "outputs": [
    {
     "name": "stdout",
     "output_type": "stream",
     "text": [
      "<class 'pandas.core.frame.DataFrame'>\n",
      "Int64Index: 760450 entries, 0 to 760449\n",
      "Data columns (total 11 columns):\n",
      " #   Column            Non-Null Count   Dtype         \n",
      "---  ------            --------------   -----         \n",
      " 0   Rating            760450 non-null  int64         \n",
      " 1   Rev_verify        760450 non-null  bool          \n",
      " 2   Review_Date       760450 non-null  datetime64[ns]\n",
      " 3   IC                760450 non-null  object        \n",
      " 4   Prod_meta         407826 non-null  object        \n",
      " 5   Reviewer_Name     760359 non-null  object        \n",
      " 6   Review            759920 non-null  object        \n",
      " 7   Rev_summ          760095 non-null  object        \n",
      " 8   Review_timestamp  760450 non-null  int64         \n",
      " 9   Useful            62200 non-null   object        \n",
      " 10  Prod_img          18194 non-null   object        \n",
      "dtypes: bool(1), datetime64[ns](1), int64(2), object(7)\n",
      "memory usage: 64.5+ MB\n"
     ]
    }
   ],
   "source": [
    "train_data.info()"
   ]
  },
  {
   "cell_type": "code",
   "execution_count": 11,
   "metadata": {},
   "outputs": [
    {
     "name": "stderr",
     "output_type": "stream",
     "text": [
      "D:\\Python\\Anaconda2\\envs\\Virtual\\lib\\site-packages\\IPython\\core\\interactiveshell.py:3063: DtypeWarning: Columns (1,9) have mixed types.Specify dtype option on import or set low_memory=False.\n",
      "  interactivity=interactivity, compiler=compiler, result=result)\n"
     ]
    }
   ],
   "source": [
    "train_data = pd.read_csv(r\"C:\\Users\\Mayank.Yogi\\Desktop\\Data Trained\\FlipRobo\\Project\\a.csv\")"
   ]
  },
  {
   "cell_type": "code",
   "execution_count": 12,
   "metadata": {},
   "outputs": [
    {
     "data": {
      "text/html": [
       "<div>\n",
       "<style scoped>\n",
       "    .dataframe tbody tr th:only-of-type {\n",
       "        vertical-align: middle;\n",
       "    }\n",
       "\n",
       "    .dataframe tbody tr th {\n",
       "        vertical-align: top;\n",
       "    }\n",
       "\n",
       "    .dataframe thead th {\n",
       "        text-align: right;\n",
       "    }\n",
       "</style>\n",
       "<table border=\"1\" class=\"dataframe\">\n",
       "  <thead>\n",
       "    <tr style=\"text-align: right;\">\n",
       "      <th></th>\n",
       "      <th>Rating</th>\n",
       "      <th>Rev_verify</th>\n",
       "      <th>Review_Date</th>\n",
       "      <th>IC</th>\n",
       "      <th>Prod_meta</th>\n",
       "      <th>Reviewer_Name</th>\n",
       "      <th>Review</th>\n",
       "      <th>Rev_summ</th>\n",
       "      <th>Review_timestamp</th>\n",
       "      <th>Useful</th>\n",
       "      <th>Prod_img</th>\n",
       "    </tr>\n",
       "  </thead>\n",
       "  <tbody>\n",
       "    <tr>\n",
       "      <th>0</th>\n",
       "      <td>5.0</td>\n",
       "      <td>True</td>\n",
       "      <td>9/1/2015</td>\n",
       "      <td>B009XD5TPQ</td>\n",
       "      <td>NaN</td>\n",
       "      <td>Sunny  Zoeller</td>\n",
       "      <td>Bought it for my husband. He's very happy with it</td>\n",
       "      <td>He's very happy with</td>\n",
       "      <td>1.441066e+09</td>\n",
       "      <td>NaN</td>\n",
       "      <td>NaN</td>\n",
       "    </tr>\n",
       "    <tr>\n",
       "      <th>1</th>\n",
       "      <td>5.0</td>\n",
       "      <td>True</td>\n",
       "      <td>1/9/2016</td>\n",
       "      <td>B016MF3P3K</td>\n",
       "      <td>NaN</td>\n",
       "      <td>Denise Lesley</td>\n",
       "      <td>Great screen protector.  Doesn't even seem as ...</td>\n",
       "      <td>Five Stars</td>\n",
       "      <td>1.452298e+09</td>\n",
       "      <td>NaN</td>\n",
       "      <td>NaN</td>\n",
       "    </tr>\n",
       "    <tr>\n",
       "      <th>2</th>\n",
       "      <td>5.0</td>\n",
       "      <td>True</td>\n",
       "      <td>4/21/2013</td>\n",
       "      <td>B008DC8N5G</td>\n",
       "      <td>NaN</td>\n",
       "      <td>Emir</td>\n",
       "      <td>Saved me lots of money! it's not gorilla glass...</td>\n",
       "      <td>As long as you know how to put it on!</td>\n",
       "      <td>1.366502e+09</td>\n",
       "      <td>NaN</td>\n",
       "      <td>NaN</td>\n",
       "    </tr>\n",
       "    <tr>\n",
       "      <th>3</th>\n",
       "      <td>3.0</td>\n",
       "      <td>True</td>\n",
       "      <td>2/27/2013</td>\n",
       "      <td>B0089CH3TM</td>\n",
       "      <td>{'Color:': ' Green'}</td>\n",
       "      <td>Alyse</td>\n",
       "      <td>The material and fit is very nice, but the col...</td>\n",
       "      <td>Good case overall</td>\n",
       "      <td>1.361923e+09</td>\n",
       "      <td>3</td>\n",
       "      <td>NaN</td>\n",
       "    </tr>\n",
       "    <tr>\n",
       "      <th>4</th>\n",
       "      <td>4.0</td>\n",
       "      <td>True</td>\n",
       "      <td>12/19/2013</td>\n",
       "      <td>B00AKZWGAC</td>\n",
       "      <td>NaN</td>\n",
       "      <td>TechGuy</td>\n",
       "      <td>This last me about 3 days till i have to charg...</td>\n",
       "      <td>Awesome Battery</td>\n",
       "      <td>1.387411e+09</td>\n",
       "      <td>NaN</td>\n",
       "      <td>NaN</td>\n",
       "    </tr>\n",
       "  </tbody>\n",
       "</table>\n",
       "</div>"
      ],
      "text/plain": [
       "   Rating Rev_verify Review_Date          IC             Prod_meta  \\\n",
       "0     5.0       True    9/1/2015  B009XD5TPQ                   NaN   \n",
       "1     5.0       True    1/9/2016  B016MF3P3K                   NaN   \n",
       "2     5.0       True   4/21/2013  B008DC8N5G                   NaN   \n",
       "3     3.0       True   2/27/2013  B0089CH3TM  {'Color:': ' Green'}   \n",
       "4     4.0       True  12/19/2013  B00AKZWGAC                   NaN   \n",
       "\n",
       "    Reviewer_Name                                             Review  \\\n",
       "0  Sunny  Zoeller  Bought it for my husband. He's very happy with it   \n",
       "1   Denise Lesley  Great screen protector.  Doesn't even seem as ...   \n",
       "2            Emir  Saved me lots of money! it's not gorilla glass...   \n",
       "3           Alyse  The material and fit is very nice, but the col...   \n",
       "4         TechGuy  This last me about 3 days till i have to charg...   \n",
       "\n",
       "                                Rev_summ  Review_timestamp Useful Prod_img  \n",
       "0                   He's very happy with      1.441066e+09    NaN      NaN  \n",
       "1                             Five Stars      1.452298e+09    NaN      NaN  \n",
       "2  As long as you know how to put it on!      1.366502e+09    NaN      NaN  \n",
       "3                      Good case overall      1.361923e+09      3      NaN  \n",
       "4                        Awesome Battery      1.387411e+09    NaN      NaN  "
      ]
     },
     "execution_count": 12,
     "metadata": {},
     "output_type": "execute_result"
    }
   ],
   "source": [
    "train_data.head()"
   ]
  },
  {
   "cell_type": "markdown",
   "metadata": {},
   "source": [
    "# Removing irrelavant rows : "
   ]
  },
  {
   "cell_type": "code",
   "execution_count": 13,
   "metadata": {},
   "outputs": [],
   "source": [
    "delete = ['Prod_meta','Reviewer_Name','Review_timestamp','Useful','Prod_img']\n",
    "train_data.drop(delete,inplace=True,axis=1)"
   ]
  },
  {
   "cell_type": "code",
   "execution_count": 14,
   "metadata": {},
   "outputs": [
    {
     "data": {
      "text/html": [
       "<div>\n",
       "<style scoped>\n",
       "    .dataframe tbody tr th:only-of-type {\n",
       "        vertical-align: middle;\n",
       "    }\n",
       "\n",
       "    .dataframe tbody tr th {\n",
       "        vertical-align: top;\n",
       "    }\n",
       "\n",
       "    .dataframe thead th {\n",
       "        text-align: right;\n",
       "    }\n",
       "</style>\n",
       "<table border=\"1\" class=\"dataframe\">\n",
       "  <thead>\n",
       "    <tr style=\"text-align: right;\">\n",
       "      <th></th>\n",
       "      <th>Rating</th>\n",
       "      <th>Rev_verify</th>\n",
       "      <th>Review_Date</th>\n",
       "      <th>IC</th>\n",
       "      <th>Review</th>\n",
       "      <th>Rev_summ</th>\n",
       "    </tr>\n",
       "  </thead>\n",
       "  <tbody>\n",
       "    <tr>\n",
       "      <th>0</th>\n",
       "      <td>5.0</td>\n",
       "      <td>True</td>\n",
       "      <td>9/1/2015</td>\n",
       "      <td>B009XD5TPQ</td>\n",
       "      <td>Bought it for my husband. He's very happy with it</td>\n",
       "      <td>He's very happy with</td>\n",
       "    </tr>\n",
       "    <tr>\n",
       "      <th>1</th>\n",
       "      <td>5.0</td>\n",
       "      <td>True</td>\n",
       "      <td>1/9/2016</td>\n",
       "      <td>B016MF3P3K</td>\n",
       "      <td>Great screen protector.  Doesn't even seem as ...</td>\n",
       "      <td>Five Stars</td>\n",
       "    </tr>\n",
       "    <tr>\n",
       "      <th>2</th>\n",
       "      <td>5.0</td>\n",
       "      <td>True</td>\n",
       "      <td>4/21/2013</td>\n",
       "      <td>B008DC8N5G</td>\n",
       "      <td>Saved me lots of money! it's not gorilla glass...</td>\n",
       "      <td>As long as you know how to put it on!</td>\n",
       "    </tr>\n",
       "    <tr>\n",
       "      <th>3</th>\n",
       "      <td>3.0</td>\n",
       "      <td>True</td>\n",
       "      <td>2/27/2013</td>\n",
       "      <td>B0089CH3TM</td>\n",
       "      <td>The material and fit is very nice, but the col...</td>\n",
       "      <td>Good case overall</td>\n",
       "    </tr>\n",
       "    <tr>\n",
       "      <th>4</th>\n",
       "      <td>4.0</td>\n",
       "      <td>True</td>\n",
       "      <td>12/19/2013</td>\n",
       "      <td>B00AKZWGAC</td>\n",
       "      <td>This last me about 3 days till i have to charg...</td>\n",
       "      <td>Awesome Battery</td>\n",
       "    </tr>\n",
       "  </tbody>\n",
       "</table>\n",
       "</div>"
      ],
      "text/plain": [
       "   Rating Rev_verify Review_Date          IC  \\\n",
       "0     5.0       True    9/1/2015  B009XD5TPQ   \n",
       "1     5.0       True    1/9/2016  B016MF3P3K   \n",
       "2     5.0       True   4/21/2013  B008DC8N5G   \n",
       "3     3.0       True   2/27/2013  B0089CH3TM   \n",
       "4     4.0       True  12/19/2013  B00AKZWGAC   \n",
       "\n",
       "                                              Review  \\\n",
       "0  Bought it for my husband. He's very happy with it   \n",
       "1  Great screen protector.  Doesn't even seem as ...   \n",
       "2  Saved me lots of money! it's not gorilla glass...   \n",
       "3  The material and fit is very nice, but the col...   \n",
       "4  This last me about 3 days till i have to charg...   \n",
       "\n",
       "                                Rev_summ  \n",
       "0                   He's very happy with  \n",
       "1                             Five Stars  \n",
       "2  As long as you know how to put it on!  \n",
       "3                      Good case overall  \n",
       "4                        Awesome Battery  "
      ]
     },
     "execution_count": 14,
     "metadata": {},
     "output_type": "execute_result"
    }
   ],
   "source": [
    "train_data.head()"
   ]
  },
  {
   "cell_type": "code",
   "execution_count": null,
   "metadata": {},
   "outputs": [],
   "source": []
  },
  {
   "cell_type": "code",
   "execution_count": null,
   "metadata": {},
   "outputs": [],
   "source": []
  },
  {
   "cell_type": "code",
   "execution_count": null,
   "metadata": {},
   "outputs": [],
   "source": []
  },
  {
   "cell_type": "markdown",
   "metadata": {},
   "source": [
    "# Visualization"
   ]
  },
  {
   "cell_type": "code",
   "execution_count": 15,
   "metadata": {},
   "outputs": [
    {
     "data": {
      "text/plain": [
       "<matplotlib.axes._subplots.AxesSubplot at 0x25542e62948>"
      ]
     },
     "execution_count": 15,
     "metadata": {},
     "output_type": "execute_result"
    },
    {
     "data": {
      "image/png": "[encoded data removed]",
      "text/plain": [
       "<Figure size 432x288 with 1 Axes>"
      ]
     },
     "metadata": {
      "needs_background": "light"
     },
     "output_type": "display_data"
    }
   ],
   "source": [
    "sns.countplot(x='Rating',data=train_data)"
   ]
  },
  {
   "cell_type": "markdown",
   "metadata": {},
   "source": [
    "### Most of the rating are above 5"
   ]
  },
  {
   "cell_type": "code",
   "execution_count": 16,
   "metadata": {},
   "outputs": [
    {
     "data": {
      "text/plain": [
       "<matplotlib.axes._subplots.AxesSubplot at 0x25542e4b908>"
      ]
     },
     "execution_count": 16,
     "metadata": {},
     "output_type": "execute_result"
    },
    {
     "data": {
      "image/png": "[encoded data removed]",
      "text/plain": [
       "<Figure size 432x288 with 1 Axes>"
      ]
     },
     "metadata": {
      "needs_background": "light"
     },
     "output_type": "display_data"
    }
   ],
   "source": [
    "sns.countplot(x='Rev_verify',data=train_data)"
   ]
  },
  {
   "cell_type": "markdown",
   "metadata": {},
   "source": [
    "### Most of the reviewer are verified in the dataset"
   ]
  },
  {
   "cell_type": "markdown",
   "metadata": {},
   "source": [
    "# Dropping null values"
   ]
  },
  {
   "cell_type": "code",
   "execution_count": 17,
   "metadata": {},
   "outputs": [],
   "source": [
    "train_data.dropna(axis=0,inplace=True)"
   ]
  },
  {
   "cell_type": "code",
   "execution_count": 18,
   "metadata": {},
   "outputs": [
    {
     "data": {
      "text/plain": [
       "Rating         0\n",
       "Rev_verify     0\n",
       "Review_Date    0\n",
       "IC             0\n",
       "Review         0\n",
       "Rev_summ       0\n",
       "dtype: int64"
      ]
     },
     "execution_count": 18,
     "metadata": {},
     "output_type": "execute_result"
    }
   ],
   "source": [
    "train_data.isnull().sum()"
   ]
  },
  {
   "cell_type": "markdown",
   "metadata": {},
   "source": [
    "# Feature Extraction from Review Date"
   ]
  },
  {
   "cell_type": "code",
   "execution_count": 19,
   "metadata": {},
   "outputs": [
    {
     "data": {
      "text/plain": [
       "Rating         float64\n",
       "Rev_verify      object\n",
       "Review_Date     object\n",
       "IC              object\n",
       "Review          object\n",
       "Rev_summ        object\n",
       "dtype: object"
      ]
     },
     "execution_count": 19,
     "metadata": {},
     "output_type": "execute_result"
    }
   ],
   "source": [
    "train_data.dtypes"
   ]
  },
  {
   "cell_type": "code",
   "execution_count": 20,
   "metadata": {},
   "outputs": [],
   "source": [
    "train_data['Year']=train_data['Review_Date'].str.split('/').str[2]\n",
    "train_data['Month']=train_data['Review_Date'].str.split('/').str[0]"
   ]
  },
  {
   "cell_type": "code",
   "execution_count": 21,
   "metadata": {},
   "outputs": [
    {
     "data": {
      "text/html": [
       "<div>\n",
       "<style scoped>\n",
       "    .dataframe tbody tr th:only-of-type {\n",
       "        vertical-align: middle;\n",
       "    }\n",
       "\n",
       "    .dataframe tbody tr th {\n",
       "        vertical-align: top;\n",
       "    }\n",
       "\n",
       "    .dataframe thead th {\n",
       "        text-align: right;\n",
       "    }\n",
       "</style>\n",
       "<table border=\"1\" class=\"dataframe\">\n",
       "  <thead>\n",
       "    <tr style=\"text-align: right;\">\n",
       "      <th></th>\n",
       "      <th>Rating</th>\n",
       "      <th>Rev_verify</th>\n",
       "      <th>Review_Date</th>\n",
       "      <th>IC</th>\n",
       "      <th>Review</th>\n",
       "      <th>Rev_summ</th>\n",
       "      <th>Year</th>\n",
       "      <th>Month</th>\n",
       "    </tr>\n",
       "  </thead>\n",
       "  <tbody>\n",
       "    <tr>\n",
       "      <th>0</th>\n",
       "      <td>5.0</td>\n",
       "      <td>True</td>\n",
       "      <td>9/1/2015</td>\n",
       "      <td>B009XD5TPQ</td>\n",
       "      <td>Bought it for my husband. He's very happy with it</td>\n",
       "      <td>He's very happy with</td>\n",
       "      <td>2015</td>\n",
       "      <td>9</td>\n",
       "    </tr>\n",
       "    <tr>\n",
       "      <th>1</th>\n",
       "      <td>5.0</td>\n",
       "      <td>True</td>\n",
       "      <td>1/9/2016</td>\n",
       "      <td>B016MF3P3K</td>\n",
       "      <td>Great screen protector.  Doesn't even seem as ...</td>\n",
       "      <td>Five Stars</td>\n",
       "      <td>2016</td>\n",
       "      <td>1</td>\n",
       "    </tr>\n",
       "    <tr>\n",
       "      <th>2</th>\n",
       "      <td>5.0</td>\n",
       "      <td>True</td>\n",
       "      <td>4/21/2013</td>\n",
       "      <td>B008DC8N5G</td>\n",
       "      <td>Saved me lots of money! it's not gorilla glass...</td>\n",
       "      <td>As long as you know how to put it on!</td>\n",
       "      <td>2013</td>\n",
       "      <td>4</td>\n",
       "    </tr>\n",
       "    <tr>\n",
       "      <th>3</th>\n",
       "      <td>3.0</td>\n",
       "      <td>True</td>\n",
       "      <td>2/27/2013</td>\n",
       "      <td>B0089CH3TM</td>\n",
       "      <td>The material and fit is very nice, but the col...</td>\n",
       "      <td>Good case overall</td>\n",
       "      <td>2013</td>\n",
       "      <td>2</td>\n",
       "    </tr>\n",
       "    <tr>\n",
       "      <th>4</th>\n",
       "      <td>4.0</td>\n",
       "      <td>True</td>\n",
       "      <td>12/19/2013</td>\n",
       "      <td>B00AKZWGAC</td>\n",
       "      <td>This last me about 3 days till i have to charg...</td>\n",
       "      <td>Awesome Battery</td>\n",
       "      <td>2013</td>\n",
       "      <td>12</td>\n",
       "    </tr>\n",
       "  </tbody>\n",
       "</table>\n",
       "</div>"
      ],
      "text/plain": [
       "   Rating Rev_verify Review_Date          IC  \\\n",
       "0     5.0       True    9/1/2015  B009XD5TPQ   \n",
       "1     5.0       True    1/9/2016  B016MF3P3K   \n",
       "2     5.0       True   4/21/2013  B008DC8N5G   \n",
       "3     3.0       True   2/27/2013  B0089CH3TM   \n",
       "4     4.0       True  12/19/2013  B00AKZWGAC   \n",
       "\n",
       "                                              Review  \\\n",
       "0  Bought it for my husband. He's very happy with it   \n",
       "1  Great screen protector.  Doesn't even seem as ...   \n",
       "2  Saved me lots of money! it's not gorilla glass...   \n",
       "3  The material and fit is very nice, but the col...   \n",
       "4  This last me about 3 days till i have to charg...   \n",
       "\n",
       "                                Rev_summ  Year Month  \n",
       "0                   He's very happy with  2015     9  \n",
       "1                             Five Stars  2016     1  \n",
       "2  As long as you know how to put it on!  2013     4  \n",
       "3                      Good case overall  2013     2  \n",
       "4                        Awesome Battery  2013    12  "
      ]
     },
     "execution_count": 21,
     "metadata": {},
     "output_type": "execute_result"
    }
   ],
   "source": [
    "train_data.head()"
   ]
  },
  {
   "cell_type": "code",
   "execution_count": 22,
   "metadata": {},
   "outputs": [
    {
     "data": {
      "text/plain": [
       "Rating         0\n",
       "Rev_verify     0\n",
       "Review_Date    0\n",
       "IC             0\n",
       "Review         0\n",
       "Rev_summ       0\n",
       "Year           0\n",
       "Month          0\n",
       "dtype: int64"
      ]
     },
     "execution_count": 22,
     "metadata": {},
     "output_type": "execute_result"
    }
   ],
   "source": [
    "train_data.isnull().sum()"
   ]
  },
  {
   "cell_type": "code",
   "execution_count": 23,
   "metadata": {},
   "outputs": [],
   "source": [
    "train_data.Year = train_data.Year.astype(int)\n",
    "train_data.Month = train_data.Month.astype(int)"
   ]
  },
  {
   "cell_type": "code",
   "execution_count": 24,
   "metadata": {},
   "outputs": [],
   "source": [
    "train_data.drop('Review_Date',inplace=True,axis=1)"
   ]
  },
  {
   "cell_type": "code",
   "execution_count": 25,
   "metadata": {},
   "outputs": [
    {
     "data": {
      "image/png": "[encoded data removed]",
      "text/plain": [
       "<Figure size 864x576 with 2 Axes>"
      ]
     },
     "metadata": {
      "needs_background": "light"
     },
     "output_type": "display_data"
    }
   ],
   "source": [
    "import numpy as np\n",
    "plt.figure(figsize=(12,8))\n",
    "plt.title('Year')\n",
    "plt.xlabel('Frequences')\n",
    "plt.ylabel('Frequency [%]')\n",
    "\n",
    "ax = (train_data.Year.value_counts()/len(train_data)*100).sort_index().plot(kind=\"bar\", rot=0)\n",
    "ax.set_yticks(np.arange(0, 110, 10))\n",
    "\n",
    "ax2 = ax.twinx()\n",
    "ax2.set_yticks(np.arange(0, 110, 10)*len(train_data)/100)\n",
    "\n",
    "for p in ax.patches:\n",
    "    ax.annotate('{:.2f}%'.format(p.get_height()), (p.get_x()+0.15, p.get_height()+1))"
   ]
  },
  {
   "cell_type": "code",
   "execution_count": 26,
   "metadata": {},
   "outputs": [
    {
     "data": {
      "image/png": "[encoded data removed]",
      "text/plain": [
       "<Figure size 864x576 with 2 Axes>"
      ]
     },
     "metadata": {
      "needs_background": "light"
     },
     "output_type": "display_data"
    }
   ],
   "source": [
    "import numpy as np\n",
    "plt.figure(figsize=(12,8))\n",
    "plt.title('Month')\n",
    "plt.xlabel('Frequences')\n",
    "plt.ylabel('Frequency [%]')\n",
    "\n",
    "ax = (train_data.Month.value_counts()/len(train_data)*100).sort_index().plot(kind=\"bar\", rot=0)\n",
    "ax.set_yticks(np.arange(0, 110, 10))\n",
    "\n",
    "ax2 = ax.twinx()\n",
    "ax2.set_yticks(np.arange(0, 110, 10)*len(train_data)/100)\n",
    "\n",
    "for p in ax.patches:\n",
    "    ax.annotate('{:.2f}%'.format(p.get_height()), (p.get_x()+0.15, p.get_height()+1))"
   ]
  },
  {
   "cell_type": "code",
   "execution_count": 27,
   "metadata": {},
   "outputs": [
    {
     "data": {
      "text/html": [
       "<div>\n",
       "<style scoped>\n",
       "    .dataframe tbody tr th:only-of-type {\n",
       "        vertical-align: middle;\n",
       "    }\n",
       "\n",
       "    .dataframe tbody tr th {\n",
       "        vertical-align: top;\n",
       "    }\n",
       "\n",
       "    .dataframe thead th {\n",
       "        text-align: right;\n",
       "    }\n",
       "</style>\n",
       "<table border=\"1\" class=\"dataframe\">\n",
       "  <thead>\n",
       "    <tr style=\"text-align: right;\">\n",
       "      <th></th>\n",
       "      <th>Rating</th>\n",
       "      <th>Rev_verify</th>\n",
       "      <th>IC</th>\n",
       "      <th>Review</th>\n",
       "      <th>Rev_summ</th>\n",
       "      <th>Year</th>\n",
       "      <th>Month</th>\n",
       "    </tr>\n",
       "  </thead>\n",
       "  <tbody>\n",
       "    <tr>\n",
       "      <th>0</th>\n",
       "      <td>5.0</td>\n",
       "      <td>True</td>\n",
       "      <td>B009XD5TPQ</td>\n",
       "      <td>Bought it for my husband. He's very happy with it</td>\n",
       "      <td>He's very happy with</td>\n",
       "      <td>2015</td>\n",
       "      <td>9</td>\n",
       "    </tr>\n",
       "    <tr>\n",
       "      <th>1</th>\n",
       "      <td>5.0</td>\n",
       "      <td>True</td>\n",
       "      <td>B016MF3P3K</td>\n",
       "      <td>Great screen protector.  Doesn't even seem as ...</td>\n",
       "      <td>Five Stars</td>\n",
       "      <td>2016</td>\n",
       "      <td>1</td>\n",
       "    </tr>\n",
       "    <tr>\n",
       "      <th>2</th>\n",
       "      <td>5.0</td>\n",
       "      <td>True</td>\n",
       "      <td>B008DC8N5G</td>\n",
       "      <td>Saved me lots of money! it's not gorilla glass...</td>\n",
       "      <td>As long as you know how to put it on!</td>\n",
       "      <td>2013</td>\n",
       "      <td>4</td>\n",
       "    </tr>\n",
       "    <tr>\n",
       "      <th>3</th>\n",
       "      <td>3.0</td>\n",
       "      <td>True</td>\n",
       "      <td>B0089CH3TM</td>\n",
       "      <td>The material and fit is very nice, but the col...</td>\n",
       "      <td>Good case overall</td>\n",
       "      <td>2013</td>\n",
       "      <td>2</td>\n",
       "    </tr>\n",
       "    <tr>\n",
       "      <th>4</th>\n",
       "      <td>4.0</td>\n",
       "      <td>True</td>\n",
       "      <td>B00AKZWGAC</td>\n",
       "      <td>This last me about 3 days till i have to charg...</td>\n",
       "      <td>Awesome Battery</td>\n",
       "      <td>2013</td>\n",
       "      <td>12</td>\n",
       "    </tr>\n",
       "  </tbody>\n",
       "</table>\n",
       "</div>"
      ],
      "text/plain": [
       "   Rating Rev_verify          IC  \\\n",
       "0     5.0       True  B009XD5TPQ   \n",
       "1     5.0       True  B016MF3P3K   \n",
       "2     5.0       True  B008DC8N5G   \n",
       "3     3.0       True  B0089CH3TM   \n",
       "4     4.0       True  B00AKZWGAC   \n",
       "\n",
       "                                              Review  \\\n",
       "0  Bought it for my husband. He's very happy with it   \n",
       "1  Great screen protector.  Doesn't even seem as ...   \n",
       "2  Saved me lots of money! it's not gorilla glass...   \n",
       "3  The material and fit is very nice, but the col...   \n",
       "4  This last me about 3 days till i have to charg...   \n",
       "\n",
       "                                Rev_summ  Year  Month  \n",
       "0                   He's very happy with  2015      9  \n",
       "1                             Five Stars  2016      1  \n",
       "2  As long as you know how to put it on!  2013      4  \n",
       "3                      Good case overall  2013      2  \n",
       "4                        Awesome Battery  2013     12  "
      ]
     },
     "execution_count": 27,
     "metadata": {},
     "output_type": "execute_result"
    }
   ],
   "source": [
    "train_data.head()"
   ]
  },
  {
   "cell_type": "code",
   "execution_count": 28,
   "metadata": {},
   "outputs": [
    {
     "data": {
      "text/plain": [
       "[]"
      ]
     },
     "execution_count": 28,
     "metadata": {},
     "output_type": "execute_result"
    },
    {
     "data": {
      "image/png": "[encoded data removed]",
      "text/plain": [
       "<Figure size 864x504 with 1 Axes>"
      ]
     },
     "metadata": {
      "needs_background": "light"
     },
     "output_type": "display_data"
    }
   ],
   "source": [
    "plt.figure(figsize=(12,7))\n",
    "sns.barplot(x='Year',y='Rating',data=train_data)\n",
    "plt.plot()"
   ]
  },
  {
   "cell_type": "markdown",
   "metadata": {},
   "source": [
    "### Most of the higher rating are in year 2002 and in other year the frequecny of rating is normally distributed"
   ]
  },
  {
   "cell_type": "code",
   "execution_count": 29,
   "metadata": {},
   "outputs": [
    {
     "data": {
      "text/html": [
       "<div>\n",
       "<style scoped>\n",
       "    .dataframe tbody tr th:only-of-type {\n",
       "        vertical-align: middle;\n",
       "    }\n",
       "\n",
       "    .dataframe tbody tr th {\n",
       "        vertical-align: top;\n",
       "    }\n",
       "\n",
       "    .dataframe thead th {\n",
       "        text-align: right;\n",
       "    }\n",
       "</style>\n",
       "<table border=\"1\" class=\"dataframe\">\n",
       "  <thead>\n",
       "    <tr style=\"text-align: right;\">\n",
       "      <th></th>\n",
       "      <th>Rating</th>\n",
       "      <th>Rev_verify</th>\n",
       "      <th>IC</th>\n",
       "      <th>Review</th>\n",
       "      <th>Rev_summ</th>\n",
       "      <th>Year</th>\n",
       "      <th>Month</th>\n",
       "    </tr>\n",
       "  </thead>\n",
       "  <tbody>\n",
       "    <tr>\n",
       "      <th>0</th>\n",
       "      <td>5.0</td>\n",
       "      <td>True</td>\n",
       "      <td>B009XD5TPQ</td>\n",
       "      <td>Bought it for my husband. He's very happy with it</td>\n",
       "      <td>He's very happy with</td>\n",
       "      <td>2015</td>\n",
       "      <td>9</td>\n",
       "    </tr>\n",
       "    <tr>\n",
       "      <th>1</th>\n",
       "      <td>5.0</td>\n",
       "      <td>True</td>\n",
       "      <td>B016MF3P3K</td>\n",
       "      <td>Great screen protector.  Doesn't even seem as ...</td>\n",
       "      <td>Five Stars</td>\n",
       "      <td>2016</td>\n",
       "      <td>1</td>\n",
       "    </tr>\n",
       "    <tr>\n",
       "      <th>2</th>\n",
       "      <td>5.0</td>\n",
       "      <td>True</td>\n",
       "      <td>B008DC8N5G</td>\n",
       "      <td>Saved me lots of money! it's not gorilla glass...</td>\n",
       "      <td>As long as you know how to put it on!</td>\n",
       "      <td>2013</td>\n",
       "      <td>4</td>\n",
       "    </tr>\n",
       "    <tr>\n",
       "      <th>3</th>\n",
       "      <td>3.0</td>\n",
       "      <td>True</td>\n",
       "      <td>B0089CH3TM</td>\n",
       "      <td>The material and fit is very nice, but the col...</td>\n",
       "      <td>Good case overall</td>\n",
       "      <td>2013</td>\n",
       "      <td>2</td>\n",
       "    </tr>\n",
       "    <tr>\n",
       "      <th>4</th>\n",
       "      <td>4.0</td>\n",
       "      <td>True</td>\n",
       "      <td>B00AKZWGAC</td>\n",
       "      <td>This last me about 3 days till i have to charg...</td>\n",
       "      <td>Awesome Battery</td>\n",
       "      <td>2013</td>\n",
       "      <td>12</td>\n",
       "    </tr>\n",
       "  </tbody>\n",
       "</table>\n",
       "</div>"
      ],
      "text/plain": [
       "   Rating Rev_verify          IC  \\\n",
       "0     5.0       True  B009XD5TPQ   \n",
       "1     5.0       True  B016MF3P3K   \n",
       "2     5.0       True  B008DC8N5G   \n",
       "3     3.0       True  B0089CH3TM   \n",
       "4     4.0       True  B00AKZWGAC   \n",
       "\n",
       "                                              Review  \\\n",
       "0  Bought it for my husband. He's very happy with it   \n",
       "1  Great screen protector.  Doesn't even seem as ...   \n",
       "2  Saved me lots of money! it's not gorilla glass...   \n",
       "3  The material and fit is very nice, but the col...   \n",
       "4  This last me about 3 days till i have to charg...   \n",
       "\n",
       "                                Rev_summ  Year  Month  \n",
       "0                   He's very happy with  2015      9  \n",
       "1                             Five Stars  2016      1  \n",
       "2  As long as you know how to put it on!  2013      4  \n",
       "3                      Good case overall  2013      2  \n",
       "4                        Awesome Battery  2013     12  "
      ]
     },
     "execution_count": 29,
     "metadata": {},
     "output_type": "execute_result"
    }
   ],
   "source": [
    "train_data.head()"
   ]
  },
  {
   "cell_type": "code",
   "execution_count": null,
   "metadata": {},
   "outputs": [],
   "source": []
  },
  {
   "cell_type": "code",
   "execution_count": null,
   "metadata": {},
   "outputs": [],
   "source": []
  },
  {
   "cell_type": "code",
   "execution_count": null,
   "metadata": {},
   "outputs": [],
   "source": []
  },
  {
   "cell_type": "code",
   "execution_count": null,
   "metadata": {},
   "outputs": [],
   "source": []
  },
  {
   "cell_type": "code",
   "execution_count": null,
   "metadata": {},
   "outputs": [],
   "source": []
  },
  {
   "cell_type": "markdown",
   "metadata": {},
   "source": [
    "# Data Cleaning from reviews"
   ]
  },
  {
   "cell_type": "code",
   "execution_count": 66,
   "metadata": {},
   "outputs": [],
   "source": [
    "df1 = train_data.groupby('IC' , as_index=False).agg(lambda x: x.tolist())"
   ]
  },
  {
   "cell_type": "code",
   "execution_count": 67,
   "metadata": {},
   "outputs": [
    {
     "data": {
      "text/html": [
       "<div>\n",
       "<style scoped>\n",
       "    .dataframe tbody tr th:only-of-type {\n",
       "        vertical-align: middle;\n",
       "    }\n",
       "\n",
       "    .dataframe tbody tr th {\n",
       "        vertical-align: top;\n",
       "    }\n",
       "\n",
       "    .dataframe thead th {\n",
       "        text-align: right;\n",
       "    }\n",
       "</style>\n",
       "<table border=\"1\" class=\"dataframe\">\n",
       "  <thead>\n",
       "    <tr style=\"text-align: right;\">\n",
       "      <th></th>\n",
       "      <th>IC</th>\n",
       "      <th>Rating</th>\n",
       "      <th>Rev_verify</th>\n",
       "      <th>Review</th>\n",
       "      <th>Rev_summ</th>\n",
       "      <th>Year</th>\n",
       "      <th>Month</th>\n",
       "    </tr>\n",
       "  </thead>\n",
       "  <tbody>\n",
       "    <tr>\n",
       "      <th>48128</th>\n",
       "      <td>B01HJBS5C2</td>\n",
       "      <td>[5.0, 1.0, 3.0, 4.0, 5.0, 5.0, 2.0, 2.0, 2.0, ...</td>\n",
       "      <td>[True, True, True, True, True, True, True, Tru...</td>\n",
       "      <td>[Strong, protective but slim and light. I am a...</td>\n",
       "      <td>[nice and protective, One Star, A good solid 2...</td>\n",
       "      <td>[2017, 2018, 2016, 2016, 2017, 2017, 2016, 201...</td>\n",
       "      <td>[5, 1, 12, 7, 4, 1, 11, 2, 11, 10, 6, 8]</td>\n",
       "    </tr>\n",
       "    <tr>\n",
       "      <th>48129</th>\n",
       "      <td>B01HJC7N4C</td>\n",
       "      <td>[3.0, 5.0, 5.0, 5.0, 5.0]</td>\n",
       "      <td>[True, False, False, False, False]</td>\n",
       "      <td>[my sons likes it. For the price it isn't too ...</td>\n",
       "      <td>[Three Stars, The VR headset is excellent and ...</td>\n",
       "      <td>[2017, 2016, 2016, 2016, 2016]</td>\n",
       "      <td>[1, 7, 7, 7, 7]</td>\n",
       "    </tr>\n",
       "    <tr>\n",
       "      <th>48130</th>\n",
       "      <td>B01HJCN1UC</td>\n",
       "      <td>[5.0, 4.0, 5.0, 5.0, 5.0, 4.0, 5.0, 5.0, 5.0, ...</td>\n",
       "      <td>[True, True, True, False, True, True, True, Tr...</td>\n",
       "      <td>[great thanks, good cable. just be sure to kno...</td>\n",
       "      <td>[Five Stars, very long cable cord, Pretty blue...</td>\n",
       "      <td>[2018, 2016, 2017, 2017, 2016, 2016, 2017, 201...</td>\n",
       "      <td>[1, 12, 6, 10, 9, 11, 2, 1, 2, 3, 3, 7, 11, 6,...</td>\n",
       "    </tr>\n",
       "    <tr>\n",
       "      <th>48131</th>\n",
       "      <td>B01HJCN55I</td>\n",
       "      <td>[5.0, 2.0, 5.0, 5.0, 5.0, 5.0, 5.0, 2.0, 5.0, ...</td>\n",
       "      <td>[True, True, True, True, True, True, True, Tru...</td>\n",
       "      <td>[Received the cable in two days and it's the b...</td>\n",
       "      <td>[Excellent, Useful, Can't beat these!, Great B...</td>\n",
       "      <td>[2016, 2017, 2017, 2017, 2016, 2016, 2016, 201...</td>\n",
       "      <td>[9, 3, 5, 3, 11, 9, 9, 5, 9, 6, 11]</td>\n",
       "    </tr>\n",
       "    <tr>\n",
       "      <th>48132</th>\n",
       "      <td>B01HJH9IN6</td>\n",
       "      <td>[1.0, 5.0, 2.0, 5.0, 1.0, 3.0]</td>\n",
       "      <td>[True, True, True, True, True, True]</td>\n",
       "      <td>[Just received it and it's VERY thin. No need ...</td>\n",
       "      <td>[Not worth the money!!, Five Stars, Looked gre...</td>\n",
       "      <td>[2016, 2016, 2016, 2016, 2016, 2016]</td>\n",
       "      <td>[9, 12, 11, 7, 11, 8]</td>\n",
       "    </tr>\n",
       "  </tbody>\n",
       "</table>\n",
       "</div>"
      ],
      "text/plain": [
       "               IC                                             Rating  \\\n",
       "48128  B01HJBS5C2  [5.0, 1.0, 3.0, 4.0, 5.0, 5.0, 2.0, 2.0, 2.0, ...   \n",
       "48129  B01HJC7N4C                          [3.0, 5.0, 5.0, 5.0, 5.0]   \n",
       "48130  B01HJCN1UC  [5.0, 4.0, 5.0, 5.0, 5.0, 4.0, 5.0, 5.0, 5.0, ...   \n",
       "48131  B01HJCN55I  [5.0, 2.0, 5.0, 5.0, 5.0, 5.0, 5.0, 2.0, 5.0, ...   \n",
       "48132  B01HJH9IN6                     [1.0, 5.0, 2.0, 5.0, 1.0, 3.0]   \n",
       "\n",
       "                                              Rev_verify  \\\n",
       "48128  [True, True, True, True, True, True, True, Tru...   \n",
       "48129                 [True, False, False, False, False]   \n",
       "48130  [True, True, True, False, True, True, True, Tr...   \n",
       "48131  [True, True, True, True, True, True, True, Tru...   \n",
       "48132               [True, True, True, True, True, True]   \n",
       "\n",
       "                                                  Review  \\\n",
       "48128  [Strong, protective but slim and light. I am a...   \n",
       "48129  [my sons likes it. For the price it isn't too ...   \n",
       "48130  [great thanks, good cable. just be sure to kno...   \n",
       "48131  [Received the cable in two days and it's the b...   \n",
       "48132  [Just received it and it's VERY thin. No need ...   \n",
       "\n",
       "                                                Rev_summ  \\\n",
       "48128  [nice and protective, One Star, A good solid 2...   \n",
       "48129  [Three Stars, The VR headset is excellent and ...   \n",
       "48130  [Five Stars, very long cable cord, Pretty blue...   \n",
       "48131  [Excellent, Useful, Can't beat these!, Great B...   \n",
       "48132  [Not worth the money!!, Five Stars, Looked gre...   \n",
       "\n",
       "                                                    Year  \\\n",
       "48128  [2017, 2018, 2016, 2016, 2017, 2017, 2016, 201...   \n",
       "48129                     [2017, 2016, 2016, 2016, 2016]   \n",
       "48130  [2018, 2016, 2017, 2017, 2016, 2016, 2017, 201...   \n",
       "48131  [2016, 2017, 2017, 2017, 2016, 2016, 2016, 201...   \n",
       "48132               [2016, 2016, 2016, 2016, 2016, 2016]   \n",
       "\n",
       "                                                   Month  \n",
       "48128           [5, 1, 12, 7, 4, 1, 11, 2, 11, 10, 6, 8]  \n",
       "48129                                    [1, 7, 7, 7, 7]  \n",
       "48130  [1, 12, 6, 10, 9, 11, 2, 1, 2, 3, 3, 7, 11, 6,...  \n",
       "48131                [9, 3, 5, 3, 11, 9, 9, 5, 9, 6, 11]  \n",
       "48132                              [9, 12, 11, 7, 11, 8]  "
      ]
     },
     "execution_count": 67,
     "metadata": {},
     "output_type": "execute_result"
    }
   ],
   "source": [
    "df1.tail()"
   ]
  },
  {
   "cell_type": "code",
   "execution_count": 68,
   "metadata": {},
   "outputs": [],
   "source": [
    "column = ['Rating','Rev_verify','Rev_summ','Year','Month']\n",
    "df1.drop(column,inplace=True,axis=1)"
   ]
  },
  {
   "cell_type": "code",
   "execution_count": 69,
   "metadata": {},
   "outputs": [
    {
     "data": {
      "text/html": [
       "<div>\n",
       "<style scoped>\n",
       "    .dataframe tbody tr th:only-of-type {\n",
       "        vertical-align: middle;\n",
       "    }\n",
       "\n",
       "    .dataframe tbody tr th {\n",
       "        vertical-align: top;\n",
       "    }\n",
       "\n",
       "    .dataframe thead th {\n",
       "        text-align: right;\n",
       "    }\n",
       "</style>\n",
       "<table border=\"1\" class=\"dataframe\">\n",
       "  <thead>\n",
       "    <tr style=\"text-align: right;\">\n",
       "      <th></th>\n",
       "      <th>IC</th>\n",
       "      <th>Review</th>\n",
       "    </tr>\n",
       "  </thead>\n",
       "  <tbody>\n",
       "    <tr>\n",
       "      <th>0</th>\n",
       "      <td>7508492919</td>\n",
       "      <td>[It is such a good case for a low price. I hav...</td>\n",
       "    </tr>\n",
       "    <tr>\n",
       "      <th>1</th>\n",
       "      <td>7532385086</td>\n",
       "      <td>[I was very excited when I first got this case...</td>\n",
       "    </tr>\n",
       "    <tr>\n",
       "      <th>2</th>\n",
       "      <td>7887421268</td>\n",
       "      <td>[Good item, Received this in about a weeks tim...</td>\n",
       "    </tr>\n",
       "    <tr>\n",
       "      <th>3</th>\n",
       "      <td>8199900164</td>\n",
       "      <td>[thank you., Works some of the time.  The char...</td>\n",
       "    </tr>\n",
       "    <tr>\n",
       "      <th>4</th>\n",
       "      <td>8288853439</td>\n",
       "      <td>[Great ! So far.\\nI had this charger before an...</td>\n",
       "    </tr>\n",
       "  </tbody>\n",
       "</table>\n",
       "</div>"
      ],
      "text/plain": [
       "           IC                                             Review\n",
       "0  7508492919  [It is such a good case for a low price. I hav...\n",
       "1  7532385086  [I was very excited when I first got this case...\n",
       "2  7887421268  [Good item, Received this in about a weeks tim...\n",
       "3  8199900164  [thank you., Works some of the time.  The char...\n",
       "4  8288853439  [Great ! So far.\\nI had this charger before an..."
      ]
     },
     "execution_count": 69,
     "metadata": {},
     "output_type": "execute_result"
    }
   ],
   "source": [
    "df1.head()"
   ]
  },
  {
   "cell_type": "code",
   "execution_count": 70,
   "metadata": {},
   "outputs": [],
   "source": [
    "df1['liststring'] = [','.join(map(str, l)) for l in df1['Review']]"
   ]
  },
  {
   "cell_type": "code",
   "execution_count": 71,
   "metadata": {},
   "outputs": [
    {
     "data": {
      "text/html": [
       "<div>\n",
       "<style scoped>\n",
       "    .dataframe tbody tr th:only-of-type {\n",
       "        vertical-align: middle;\n",
       "    }\n",
       "\n",
       "    .dataframe tbody tr th {\n",
       "        vertical-align: top;\n",
       "    }\n",
       "\n",
       "    .dataframe thead th {\n",
       "        text-align: right;\n",
       "    }\n",
       "</style>\n",
       "<table border=\"1\" class=\"dataframe\">\n",
       "  <thead>\n",
       "    <tr style=\"text-align: right;\">\n",
       "      <th></th>\n",
       "      <th>IC</th>\n",
       "      <th>Review</th>\n",
       "      <th>liststring</th>\n",
       "    </tr>\n",
       "  </thead>\n",
       "  <tbody>\n",
       "    <tr>\n",
       "      <th>0</th>\n",
       "      <td>7508492919</td>\n",
       "      <td>[It is such a good case for a low price. I hav...</td>\n",
       "      <td>It is such a good case for a low price. I have...</td>\n",
       "    </tr>\n",
       "    <tr>\n",
       "      <th>1</th>\n",
       "      <td>7532385086</td>\n",
       "      <td>[I was very excited when I first got this case...</td>\n",
       "      <td>I was very excited when I first got this case....</td>\n",
       "    </tr>\n",
       "    <tr>\n",
       "      <th>2</th>\n",
       "      <td>7887421268</td>\n",
       "      <td>[Good item, Received this in about a weeks tim...</td>\n",
       "      <td>Good item,Received this in about a weeks time....</td>\n",
       "    </tr>\n",
       "    <tr>\n",
       "      <th>3</th>\n",
       "      <td>8199900164</td>\n",
       "      <td>[thank you., Works some of the time.  The char...</td>\n",
       "      <td>thank you.,Works some of the time.  The charge...</td>\n",
       "    </tr>\n",
       "    <tr>\n",
       "      <th>4</th>\n",
       "      <td>8288853439</td>\n",
       "      <td>[Great ! So far.\\nI had this charger before an...</td>\n",
       "      <td>Great ! So far.\\nI had this charger before and...</td>\n",
       "    </tr>\n",
       "  </tbody>\n",
       "</table>\n",
       "</div>"
      ],
      "text/plain": [
       "           IC                                             Review  \\\n",
       "0  7508492919  [It is such a good case for a low price. I hav...   \n",
       "1  7532385086  [I was very excited when I first got this case...   \n",
       "2  7887421268  [Good item, Received this in about a weeks tim...   \n",
       "3  8199900164  [thank you., Works some of the time.  The char...   \n",
       "4  8288853439  [Great ! So far.\\nI had this charger before an...   \n",
       "\n",
       "                                          liststring  \n",
       "0  It is such a good case for a low price. I have...  \n",
       "1  I was very excited when I first got this case....  \n",
       "2  Good item,Received this in about a weeks time....  \n",
       "3  thank you.,Works some of the time.  The charge...  \n",
       "4  Great ! So far.\\nI had this charger before and...  "
      ]
     },
     "execution_count": 71,
     "metadata": {},
     "output_type": "execute_result"
    }
   ],
   "source": [
    "df1.head()"
   ]
  },
  {
   "cell_type": "code",
   "execution_count": 72,
   "metadata": {},
   "outputs": [],
   "source": [
    "df1.drop('Review',inplace=True,axis=1)"
   ]
  },
  {
   "cell_type": "code",
   "execution_count": null,
   "metadata": {},
   "outputs": [],
   "source": []
  },
  {
   "cell_type": "code",
   "execution_count": null,
   "metadata": {},
   "outputs": [],
   "source": []
  },
  {
   "cell_type": "code",
   "execution_count": null,
   "metadata": {},
   "outputs": [],
   "source": []
  },
  {
   "cell_type": "code",
   "execution_count": null,
   "metadata": {},
   "outputs": [],
   "source": []
  },
  {
   "cell_type": "markdown",
   "metadata": {},
   "source": [
    "# Keywords Extraction from Review"
   ]
  },
  {
   "cell_type": "code",
   "execution_count": 73,
   "metadata": {},
   "outputs": [],
   "source": [
    "for columns in df1.columns:\n",
    "    df1['liststring'] = df1['liststring'].str.lower() "
   ]
  },
  {
   "cell_type": "code",
   "execution_count": 74,
   "metadata": {},
   "outputs": [],
   "source": [
    "import string\n",
    "df1['remove_punc'] = df1['liststring'].apply(lambda x:''.join([i for i in x \n",
    "                                                  if i not in string.punctuation]))"
   ]
  },
  {
   "cell_type": "code",
   "execution_count": 75,
   "metadata": {},
   "outputs": [],
   "source": [
    "import nltk\n",
    "from nltk.corpus import stopwords\n",
    "stop = stopwords.words('english')"
   ]
  },
  {
   "cell_type": "code",
   "execution_count": 76,
   "metadata": {},
   "outputs": [],
   "source": [
    "df1['text_without_stopwords'] = df1['remove_punc'].apply(lambda x: ' '.join([word for word in x.split() if word not in (stop)]))"
   ]
  },
  {
   "cell_type": "code",
   "execution_count": 77,
   "metadata": {},
   "outputs": [
    {
     "data": {
      "text/html": [
       "<div>\n",
       "<style scoped>\n",
       "    .dataframe tbody tr th:only-of-type {\n",
       "        vertical-align: middle;\n",
       "    }\n",
       "\n",
       "    .dataframe tbody tr th {\n",
       "        vertical-align: top;\n",
       "    }\n",
       "\n",
       "    .dataframe thead th {\n",
       "        text-align: right;\n",
       "    }\n",
       "</style>\n",
       "<table border=\"1\" class=\"dataframe\">\n",
       "  <thead>\n",
       "    <tr style=\"text-align: right;\">\n",
       "      <th></th>\n",
       "      <th>IC</th>\n",
       "      <th>liststring</th>\n",
       "      <th>remove_punc</th>\n",
       "      <th>text_without_stopwords</th>\n",
       "    </tr>\n",
       "  </thead>\n",
       "  <tbody>\n",
       "    <tr>\n",
       "      <th>0</th>\n",
       "      <td>7508492919</td>\n",
       "      <td>it is such a good case for a low price. i have...</td>\n",
       "      <td>it is such a good case for a low price i have ...</td>\n",
       "      <td>good case low price right never problems besid...</td>\n",
       "    </tr>\n",
       "    <tr>\n",
       "      <th>1</th>\n",
       "      <td>7532385086</td>\n",
       "      <td>i was very excited when i first got this case....</td>\n",
       "      <td>i was very excited when i first got this case ...</td>\n",
       "      <td>excited first got case loved color feel starte...</td>\n",
       "    </tr>\n",
       "    <tr>\n",
       "      <th>2</th>\n",
       "      <td>7887421268</td>\n",
       "      <td>good item,received this in about a weeks time....</td>\n",
       "      <td>good itemreceived this in about a weeks time v...</td>\n",
       "      <td>good itemreceived weeks time nice actually con...</td>\n",
       "    </tr>\n",
       "    <tr>\n",
       "      <th>3</th>\n",
       "      <td>8199900164</td>\n",
       "      <td>thank you.,works some of the time.  the charge...</td>\n",
       "      <td>thank youworks some of the time  the charger h...</td>\n",
       "      <td>thank youworks time charger stopped working da...</td>\n",
       "    </tr>\n",
       "    <tr>\n",
       "      <th>4</th>\n",
       "      <td>8288853439</td>\n",
       "      <td>great ! so far.\\ni had this charger before and...</td>\n",
       "      <td>great  so far\\ni had this charger before and i...</td>\n",
       "      <td>great far charger seem last pretty good 3 year...</td>\n",
       "    </tr>\n",
       "  </tbody>\n",
       "</table>\n",
       "</div>"
      ],
      "text/plain": [
       "           IC                                         liststring  \\\n",
       "0  7508492919  it is such a good case for a low price. i have...   \n",
       "1  7532385086  i was very excited when i first got this case....   \n",
       "2  7887421268  good item,received this in about a weeks time....   \n",
       "3  8199900164  thank you.,works some of the time.  the charge...   \n",
       "4  8288853439  great ! so far.\\ni had this charger before and...   \n",
       "\n",
       "                                         remove_punc  \\\n",
       "0  it is such a good case for a low price i have ...   \n",
       "1  i was very excited when i first got this case ...   \n",
       "2  good itemreceived this in about a weeks time v...   \n",
       "3  thank youworks some of the time  the charger h...   \n",
       "4  great  so far\\ni had this charger before and i...   \n",
       "\n",
       "                              text_without_stopwords  \n",
       "0  good case low price right never problems besid...  \n",
       "1  excited first got case loved color feel starte...  \n",
       "2  good itemreceived weeks time nice actually con...  \n",
       "3  thank youworks time charger stopped working da...  \n",
       "4  great far charger seem last pretty good 3 year...  "
      ]
     },
     "execution_count": 77,
     "metadata": {},
     "output_type": "execute_result"
    }
   ],
   "source": [
    "df1.head()"
   ]
  },
  {
   "cell_type": "code",
   "execution_count": 78,
   "metadata": {},
   "outputs": [],
   "source": [
    "df1.drop('remove_punc',inplace=True,axis=1)"
   ]
  },
  {
   "cell_type": "code",
   "execution_count": 79,
   "metadata": {},
   "outputs": [
    {
     "data": {
      "text/html": [
       "<div>\n",
       "<style scoped>\n",
       "    .dataframe tbody tr th:only-of-type {\n",
       "        vertical-align: middle;\n",
       "    }\n",
       "\n",
       "    .dataframe tbody tr th {\n",
       "        vertical-align: top;\n",
       "    }\n",
       "\n",
       "    .dataframe thead th {\n",
       "        text-align: right;\n",
       "    }\n",
       "</style>\n",
       "<table border=\"1\" class=\"dataframe\">\n",
       "  <thead>\n",
       "    <tr style=\"text-align: right;\">\n",
       "      <th></th>\n",
       "      <th>IC</th>\n",
       "      <th>liststring</th>\n",
       "      <th>text_without_stopwords</th>\n",
       "    </tr>\n",
       "  </thead>\n",
       "  <tbody>\n",
       "    <tr>\n",
       "      <th>0</th>\n",
       "      <td>7508492919</td>\n",
       "      <td>it is such a good case for a low price. i have...</td>\n",
       "      <td>good case low price right never problems besid...</td>\n",
       "    </tr>\n",
       "    <tr>\n",
       "      <th>1</th>\n",
       "      <td>7532385086</td>\n",
       "      <td>i was very excited when i first got this case....</td>\n",
       "      <td>excited first got case loved color feel starte...</td>\n",
       "    </tr>\n",
       "    <tr>\n",
       "      <th>2</th>\n",
       "      <td>7887421268</td>\n",
       "      <td>good item,received this in about a weeks time....</td>\n",
       "      <td>good itemreceived weeks time nice actually con...</td>\n",
       "    </tr>\n",
       "    <tr>\n",
       "      <th>3</th>\n",
       "      <td>8199900164</td>\n",
       "      <td>thank you.,works some of the time.  the charge...</td>\n",
       "      <td>thank youworks time charger stopped working da...</td>\n",
       "    </tr>\n",
       "    <tr>\n",
       "      <th>4</th>\n",
       "      <td>8288853439</td>\n",
       "      <td>great ! so far.\\ni had this charger before and...</td>\n",
       "      <td>great far charger seem last pretty good 3 year...</td>\n",
       "    </tr>\n",
       "  </tbody>\n",
       "</table>\n",
       "</div>"
      ],
      "text/plain": [
       "           IC                                         liststring  \\\n",
       "0  7508492919  it is such a good case for a low price. i have...   \n",
       "1  7532385086  i was very excited when i first got this case....   \n",
       "2  7887421268  good item,received this in about a weeks time....   \n",
       "3  8199900164  thank you.,works some of the time.  the charge...   \n",
       "4  8288853439  great ! so far.\\ni had this charger before and...   \n",
       "\n",
       "                              text_without_stopwords  \n",
       "0  good case low price right never problems besid...  \n",
       "1  excited first got case loved color feel starte...  \n",
       "2  good itemreceived weeks time nice actually con...  \n",
       "3  thank youworks time charger stopped working da...  \n",
       "4  great far charger seem last pretty good 3 year...  "
      ]
     },
     "execution_count": 79,
     "metadata": {},
     "output_type": "execute_result"
    }
   ],
   "source": [
    "df1.head()"
   ]
  },
  {
   "cell_type": "code",
   "execution_count": null,
   "metadata": {},
   "outputs": [],
   "source": [
    "from sklearn.feature_extraction.text import TfidfTransformer\n",
    "\n",
    "tfidf_transformer=TfidfTransformer(smooth_idf=True,use_idf=True)\n",
    "tfidf_transformer.fit(word_count_vector)"
   ]
  },
  {
   "cell_type": "code",
   "execution_count": 137,
   "metadata": {},
   "outputs": [],
   "source": [
    "from sklearn.feature_extraction.text import CountVectorizer\n",
    "import re"
   ]
  },
  {
   "cell_type": "code",
   "execution_count": 163,
   "metadata": {},
   "outputs": [
    {
     "data": {
      "text/plain": [
       "(48133, 366733)"
      ]
     },
     "execution_count": 163,
     "metadata": {},
     "output_type": "execute_result"
    }
   ],
   "source": [
    "cv=CountVectorizer(max_df=0.85,stop_words=stop)\n",
    "word_count_vector=cv.fit_transform(df1.text_without_stopwords)\n",
    "word_count_vector.shape"
   ]
  },
  {
   "cell_type": "code",
   "execution_count": 164,
   "metadata": {},
   "outputs": [
    {
     "data": {
      "text/plain": [
       "(48133, 50000)"
      ]
     },
     "execution_count": 164,
     "metadata": {},
     "output_type": "execute_result"
    }
   ],
   "source": [
    "cv=CountVectorizer(max_df=0.85,stop_words=stop,max_features=50000)\n",
    "word_count_vector=cv.fit_transform(df1.text_without_stopwords)\n",
    "word_count_vector.shape"
   ]
  },
  {
   "cell_type": "code",
   "execution_count": 165,
   "metadata": {},
   "outputs": [
    {
     "data": {
      "text/plain": [
       "TfidfTransformer()"
      ]
     },
     "execution_count": 165,
     "metadata": {},
     "output_type": "execute_result"
    }
   ],
   "source": [
    "from sklearn.feature_extraction.text import TfidfTransformer\n",
    "\n",
    "tfidf_transformer=TfidfTransformer(smooth_idf=True,use_idf=True)\n",
    "tfidf_transformer.fit(word_count_vector)"
   ]
  },
  {
   "cell_type": "code",
   "execution_count": 173,
   "metadata": {},
   "outputs": [],
   "source": [
    "def sort_coo(coo_matrix):\n",
    "    tuples = zip(coo_matrix.col, coo_matrix.data)\n",
    "    return sorted(tuples, key=lambda x: (x[1], x[0]), reverse=True)\n",
    "\n",
    "def extract_topn_from_vector(feature_names, sorted_items, topn=10):\n",
    "    \"\"\"get the feature names and tf-idf score of top n items\"\"\"\n",
    "    \n",
    "    #use only topn items from vector\n",
    "    sorted_items = sorted_items[:topn]\n",
    "\n",
    "    score_vals = []\n",
    "    feature_vals = []\n",
    "\n",
    "    for idx, score in sorted_items:\n",
    "        fname = feature_names[idx]\n",
    "        \n",
    "        #keep track of feature name and its corresponding score\n",
    "        #score_vals.append(round(score, 3))\n",
    "        feature_vals.append(feature_names[idx])\n",
    "\n",
    "    \n",
    "    results = feature_vals\n",
    "  \n",
    " \n",
    "    \n",
    "    return results"
   ]
  },
  {
   "cell_type": "code",
   "execution_count": 175,
   "metadata": {},
   "outputs": [
    {
     "name": "stdout",
     "output_type": "stream",
     "text": [
      "\n",
      "=====Title=====\n",
      "good case low price right never problems besides losing 2 stones since purchase im rough recommend iti didnt get case thats shown picture case got black gold bow still cute wanted wanted picturemy teenage daughter loved case really pretty put 4 stars look little cheap looking expect much bling owhen dont want spend whole lot cash want great dealthis shop buy fromi liked cute studs fall easily protect phone would recommended buy like looksits cute stones lasted long time really makes phone look lot prettier funnierthe hirl wants needs hello kitty products happy collection choose friends wants hello kitty phone cases thanks sellerso cute love thisone drop done thoughi dropped iton bathroom floor cracked item cutethis case cute looks good white iphone pretty good quality one diamond fallen cos dropped cement kinda hard get whatever cute hot everyone compliments ithappy itthis case pretty girly looking problem hard put case jeans pocket bow stick would problem carry mine purse daughters put phones pockets shipping describedcute case jewels come expect mine held pretty nicely lost stones barely noticeablegot friend saw liked got liked looks good iphone fits well tooit beautiful phone case also hard remove also 3d ribbon came wasy darker picture shows also came wonky prettyit looks like actually bedazzled phone case better expected cute yes would recommend casethis cutest case ive ever bought got today took really long timewhich weird cause took almost two months didnt care thought gonna fall apart didnt really held nicely thinking ordering ones come pink black really classy rich looking 2 bucks go wrong girlyeven though dont like much stuff going onon cases perfect havent tried fitting pocket sooo definatley buy thisit cute love bling love pink cute case get many complimentsthis case soo super pretty case may look breakable sturdy super cute case looks cuter real life picture waiting get itfor price received pretty great case received many compliments cute bow back looked like might fall 6 months nope strongly attached diamonds back amazed long stayed attached like 3 fallen bad fits nicely phone dont recommend dropping phone doesnt give protection impacts like look pretty phone kind case unfortunately replace case due crazy lifestyle throwing phone bags pockets plastic volume buttons started break definitely buy another one put iphone special occasions onlylove gorgeous arrived time get many compliments definitely girly case lovebeautiful quality outstanding product everyone compliments case thinks spent wayy wayy really love case plenty cases 1 favs kept case longer case sum stones fall give u extra ran extras changed da case lolanother great product daughter use long time iphone 5c transaction went well fastthis case extremely great deal color design perfect great going town casecrystals fell nothing thats really didnt like soon saw liked stonescan argue price appearance looks like picture exception white jewels fall rather easilysoooo cute got many complaints cover took gems bottom case since texting made hard awhile gems started peel offbut still looked cutei used case couple weeks far great little blings stayed place sparkly cutethe product recommended anyone looking use gift one family members thankshere another love well happy phone cover get many compliments females phone wears iti used case even week bow came loved pretty wish would stayed togetheri really love case keep phone face time pretty good quality stones come normal use unless keep purse daygotten many compliments beautiful simple ive 3 months still looks brand newit great deal would keep buying worth wait happy happy happy happy happyvery cheap broke first time put pretty cheaply made bad cuteso case came time love design im actually missing 2 studs nothing noticeable studding almost bit sloppy around bow noticeable havent put phone yet ive notice farthis pretty 4s cell phone case ans 3d pretty thank renei ordered case daughter christmas got iphone christmas wanted really nice phone case different everybody iphone cases loved phone case moment opened package loved fact case came days earlier expected price amazing really cute 3d iphone case tooi purchased granddaughters phone loves unique quality cover goodreally pretty ive couple gems come comes glue easily fixable like\n",
      "\n",
      "===Keywords===\n",
      "case\n",
      "cute\n",
      "bow\n",
      "stones\n",
      "pretty\n",
      "compliments\n",
      "phone\n",
      "gems\n",
      "wayy\n",
      "really\n",
      "3d\n",
      "studs\n",
      "iphone\n",
      "fall\n",
      "many\n",
      "happy\n",
      "kitty\n",
      "jewels\n",
      "stayed\n",
      "like\n"
     ]
    }
   ],
   "source": [
    "# you only needs to do this once\n",
    "feature_names=cv.get_feature_names()\n",
    "\n",
    "# get the document that we want to extract keywords from\n",
    "doc=df1.text_without_stopwords[0]\n",
    "\n",
    "#generate tf-idf for the given document\n",
    "tf_idf_vector=tfidf_transformer.transform(cv.transform([doc]))\n",
    "\n",
    "#sort the tf-idf vectors by descending order of scores\n",
    "sorted_items=sort_coo(tf_idf_vector.tocoo())\n",
    "\n",
    "#extract only the top n; n here is 10\n",
    "keywords=extract_topn_from_vector(feature_names,sorted_items,20)\n",
    "\n",
    "# now print the results\n",
    "print(\"\\n=====Title=====\")\n",
    "print(df1.text_without_stopwords[0])\n",
    "print(\"\\n===Keywords===\")\n",
    "for k in keywords:\n",
    "    print(k)"
   ]
  },
  {
   "cell_type": "code",
   "execution_count": 176,
   "metadata": {},
   "outputs": [],
   "source": [
    "# put the common code into several methods\n",
    "def get_keywords(idx):\n",
    "\n",
    "    #generate tf-idf for the given document\n",
    "    tf_idf_vector=tfidf_transformer.transform(cv.transform([df1.text_without_stopwords[idx]]))\n",
    "\n",
    "    #sort the tf-idf vectors by descending order of scores\n",
    "    sorted_items=sort_coo(tf_idf_vector.tocoo())\n",
    "\n",
    "    #extract only the top n; n here is 10\n",
    "    keywords=extract_topn_from_vector(feature_names,sorted_items,20)\n",
    "    \n",
    "    return keywords\n",
    "\n",
    "def print_results(idx,keywords):\n",
    "    # now print the results\n",
    "    print(\"\\n=====Title=====\")\n",
    "    print(df1.text_without_stopwords[idx])\n",
    "    print(\"\\n===Keywords===\")\n",
    "    for k in keywords:\n",
    "        print(k)"
   ]
  },
  {
   "cell_type": "code",
   "execution_count": 177,
   "metadata": {},
   "outputs": [
    {
     "name": "stdout",
     "output_type": "stream",
     "text": [
      "\n",
      "=====Title=====\n",
      "good case low price right never problems besides losing 2 stones since purchase im rough recommend iti didnt get case thats shown picture case got black gold bow still cute wanted wanted picturemy teenage daughter loved case really pretty put 4 stars look little cheap looking expect much bling owhen dont want spend whole lot cash want great dealthis shop buy fromi liked cute studs fall easily protect phone would recommended buy like looksits cute stones lasted long time really makes phone look lot prettier funnierthe hirl wants needs hello kitty products happy collection choose friends wants hello kitty phone cases thanks sellerso cute love thisone drop done thoughi dropped iton bathroom floor cracked item cutethis case cute looks good white iphone pretty good quality one diamond fallen cos dropped cement kinda hard get whatever cute hot everyone compliments ithappy itthis case pretty girly looking problem hard put case jeans pocket bow stick would problem carry mine purse daughters put phones pockets shipping describedcute case jewels come expect mine held pretty nicely lost stones barely noticeablegot friend saw liked got liked looks good iphone fits well tooit beautiful phone case also hard remove also 3d ribbon came wasy darker picture shows also came wonky prettyit looks like actually bedazzled phone case better expected cute yes would recommend casethis cutest case ive ever bought got today took really long timewhich weird cause took almost two months didnt care thought gonna fall apart didnt really held nicely thinking ordering ones come pink black really classy rich looking 2 bucks go wrong girlyeven though dont like much stuff going onon cases perfect havent tried fitting pocket sooo definatley buy thisit cute love bling love pink cute case get many complimentsthis case soo super pretty case may look breakable sturdy super cute case looks cuter real life picture waiting get itfor price received pretty great case received many compliments cute bow back looked like might fall 6 months nope strongly attached diamonds back amazed long stayed attached like 3 fallen bad fits nicely phone dont recommend dropping phone doesnt give protection impacts like look pretty phone kind case unfortunately replace case due crazy lifestyle throwing phone bags pockets plastic volume buttons started break definitely buy another one put iphone special occasions onlylove gorgeous arrived time get many compliments definitely girly case lovebeautiful quality outstanding product everyone compliments case thinks spent wayy wayy really love case plenty cases 1 favs kept case longer case sum stones fall give u extra ran extras changed da case lolanother great product daughter use long time iphone 5c transaction went well fastthis case extremely great deal color design perfect great going town casecrystals fell nothing thats really didnt like soon saw liked stonescan argue price appearance looks like picture exception white jewels fall rather easilysoooo cute got many complaints cover took gems bottom case since texting made hard awhile gems started peel offbut still looked cutei used case couple weeks far great little blings stayed place sparkly cutethe product recommended anyone looking use gift one family members thankshere another love well happy phone cover get many compliments females phone wears iti used case even week bow came loved pretty wish would stayed togetheri really love case keep phone face time pretty good quality stones come normal use unless keep purse daygotten many compliments beautiful simple ive 3 months still looks brand newit great deal would keep buying worth wait happy happy happy happy happyvery cheap broke first time put pretty cheaply made bad cuteso case came time love design im actually missing 2 studs nothing noticeable studding almost bit sloppy around bow noticeable havent put phone yet ive notice farthis pretty 4s cell phone case ans 3d pretty thank renei ordered case daughter christmas got iphone christmas wanted really nice phone case different everybody iphone cases loved phone case moment opened package loved fact case came days earlier expected price amazing really cute 3d iphone case tooi purchased granddaughters phone loves unique quality cover goodreally pretty ive couple gems come comes glue easily fixable like\n",
      "\n",
      "===Keywords===\n",
      "case\n",
      "cute\n",
      "bow\n",
      "stones\n",
      "pretty\n",
      "compliments\n",
      "phone\n",
      "gems\n",
      "wayy\n",
      "really\n",
      "3d\n",
      "studs\n",
      "iphone\n",
      "fall\n",
      "many\n",
      "happy\n",
      "kitty\n",
      "jewels\n",
      "stayed\n",
      "like\n"
     ]
    }
   ],
   "source": [
    "\n",
    "idx=0\n",
    "keywords=get_keywords(idx)\n",
    "print_results(idx,keywords)"
   ]
  },
  {
   "cell_type": "code",
   "execution_count": 178,
   "metadata": {},
   "outputs": [
    {
     "data": {
      "text/html": [
       "<div>\n",
       "<style scoped>\n",
       "    .dataframe tbody tr th:only-of-type {\n",
       "        vertical-align: middle;\n",
       "    }\n",
       "\n",
       "    .dataframe tbody tr th {\n",
       "        vertical-align: top;\n",
       "    }\n",
       "\n",
       "    .dataframe thead th {\n",
       "        text-align: right;\n",
       "    }\n",
       "</style>\n",
       "<table border=\"1\" class=\"dataframe\">\n",
       "  <thead>\n",
       "    <tr style=\"text-align: right;\">\n",
       "      <th></th>\n",
       "      <th>IC</th>\n",
       "      <th>Review</th>\n",
       "      <th>keywords</th>\n",
       "    </tr>\n",
       "  </thead>\n",
       "  <tbody>\n",
       "    <tr>\n",
       "      <th>0</th>\n",
       "      <td>7508492919</td>\n",
       "      <td>good case low price right never problems besid...</td>\n",
       "      <td>[case, cute, bow, stones, pretty, compliments,...</td>\n",
       "    </tr>\n",
       "    <tr>\n",
       "      <th>1</th>\n",
       "      <td>7532385086</td>\n",
       "      <td>excited first got case loved color feel starte...</td>\n",
       "      <td>[thisgoodi, arrivei, refund, phonereceived, sn...</td>\n",
       "    </tr>\n",
       "    <tr>\n",
       "      <th>2</th>\n",
       "      <td>7887421268</td>\n",
       "      <td>good itemreceived weeks time nice actually con...</td>\n",
       "      <td>[case, itemreceived, electromaster, spots, cov...</td>\n",
       "    </tr>\n",
       "    <tr>\n",
       "      <th>3</th>\n",
       "      <td>8199900164</td>\n",
       "      <td>thank youworks time charger stopped working da...</td>\n",
       "      <td>[lolbought, chargingawesome, beeps, youworks, ...</td>\n",
       "    </tr>\n",
       "    <tr>\n",
       "      <th>4</th>\n",
       "      <td>8288853439</td>\n",
       "      <td>great far charger seem last pretty good 3 year...</td>\n",
       "      <td>[charger, galaxy, blackberry, chargers, 1217, ...</td>\n",
       "    </tr>\n",
       "    <tr>\n",
       "      <th>...</th>\n",
       "      <td>...</td>\n",
       "      <td>...</td>\n",
       "      <td>...</td>\n",
       "    </tr>\n",
       "    <tr>\n",
       "      <th>48128</th>\n",
       "      <td>B01HJBS5C2</td>\n",
       "      <td>strong protective slim light already ordering ...</td>\n",
       "      <td>[belt, clip, holster, case, phone, headphone, ...</td>\n",
       "    </tr>\n",
       "    <tr>\n",
       "      <th>48129</th>\n",
       "      <td>B01HJC7N4C</td>\n",
       "      <td>sons likes price isnt badrecently received fre...</td>\n",
       "      <td>[vr, headset, rockrok, 3d, apps, glasses, virt...</td>\n",
       "    </tr>\n",
       "    <tr>\n",
       "      <th>48130</th>\n",
       "      <td>B01HJCN1UC</td>\n",
       "      <td>great thanksgood cable sure know length longer...</td>\n",
       "      <td>[cable, kindle, tangle, monster, cord, cords, ...</td>\n",
       "    </tr>\n",
       "    <tr>\n",
       "      <th>48131</th>\n",
       "      <td>B01HJCN55I</td>\n",
       "      <td>received cable two days best 10ft cable rechar...</td>\n",
       "      <td>[fire, cable, kindle, upsets, time, pricehad, ...</td>\n",
       "    </tr>\n",
       "    <tr>\n",
       "      <th>48132</th>\n",
       "      <td>B01HJH9IN6</td>\n",
       "      <td>received thin need put max protection package ...</td>\n",
       "      <td>[coolnot, perforations, brokenthis, itcool, wa...</td>\n",
       "    </tr>\n",
       "  </tbody>\n",
       "</table>\n",
       "<p>48133 rows × 3 columns</p>\n",
       "</div>"
      ],
      "text/plain": [
       "               IC                                             Review  \\\n",
       "0      7508492919  good case low price right never problems besid...   \n",
       "1      7532385086  excited first got case loved color feel starte...   \n",
       "2      7887421268  good itemreceived weeks time nice actually con...   \n",
       "3      8199900164  thank youworks time charger stopped working da...   \n",
       "4      8288853439  great far charger seem last pretty good 3 year...   \n",
       "...           ...                                                ...   \n",
       "48128  B01HJBS5C2  strong protective slim light already ordering ...   \n",
       "48129  B01HJC7N4C  sons likes price isnt badrecently received fre...   \n",
       "48130  B01HJCN1UC  great thanksgood cable sure know length longer...   \n",
       "48131  B01HJCN55I  received cable two days best 10ft cable rechar...   \n",
       "48132  B01HJH9IN6  received thin need put max protection package ...   \n",
       "\n",
       "                                                keywords  \n",
       "0      [case, cute, bow, stones, pretty, compliments,...  \n",
       "1      [thisgoodi, arrivei, refund, phonereceived, sn...  \n",
       "2      [case, itemreceived, electromaster, spots, cov...  \n",
       "3      [lolbought, chargingawesome, beeps, youworks, ...  \n",
       "4      [charger, galaxy, blackberry, chargers, 1217, ...  \n",
       "...                                                  ...  \n",
       "48128  [belt, clip, holster, case, phone, headphone, ...  \n",
       "48129  [vr, headset, rockrok, 3d, apps, glasses, virt...  \n",
       "48130  [cable, kindle, tangle, monster, cord, cords, ...  \n",
       "48131  [fire, cable, kindle, upsets, time, pricehad, ...  \n",
       "48132  [coolnot, perforations, brokenthis, itcool, wa...  \n",
       "\n",
       "[48133 rows x 3 columns]"
      ]
     },
     "execution_count": 178,
     "metadata": {},
     "output_type": "execute_result"
    }
   ],
   "source": [
    "tf_idf_vector=tfidf_transformer.transform(cv.transform(df1.text_without_stopwords))\n",
    "\n",
    "results=[]\n",
    "for i in range(tf_idf_vector.shape[0]):\n",
    "    \n",
    "    # get vector for a single document\n",
    "    curr_vector=tf_idf_vector[i]\n",
    "    \n",
    "    #sort the tf-idf vector by descending order of scores\n",
    "    sorted_items=sort_coo(curr_vector.tocoo())\n",
    "\n",
    "    #extract only the top n; n here is 20\n",
    "    keywords=extract_topn_from_vector(feature_names,sorted_items,20)\n",
    "    \n",
    "    \n",
    "    results.append(keywords)\n",
    "\n",
    "df=pd.DataFrame(zip(df1.IC,df1.text_without_stopwords,results),columns=['IC','Review','keywords'])\n",
    "df"
   ]
  },
  {
   "cell_type": "code",
   "execution_count": 180,
   "metadata": {},
   "outputs": [],
   "source": [
    "df['keywords'] = [','.join(map(str, l)) for l in df['keywords']]"
   ]
  },
  {
   "cell_type": "code",
   "execution_count": 181,
   "metadata": {},
   "outputs": [
    {
     "data": {
      "text/html": [
       "<div>\n",
       "<style scoped>\n",
       "    .dataframe tbody tr th:only-of-type {\n",
       "        vertical-align: middle;\n",
       "    }\n",
       "\n",
       "    .dataframe tbody tr th {\n",
       "        vertical-align: top;\n",
       "    }\n",
       "\n",
       "    .dataframe thead th {\n",
       "        text-align: right;\n",
       "    }\n",
       "</style>\n",
       "<table border=\"1\" class=\"dataframe\">\n",
       "  <thead>\n",
       "    <tr style=\"text-align: right;\">\n",
       "      <th></th>\n",
       "      <th>IC</th>\n",
       "      <th>Review</th>\n",
       "      <th>keywords</th>\n",
       "    </tr>\n",
       "  </thead>\n",
       "  <tbody>\n",
       "    <tr>\n",
       "      <th>0</th>\n",
       "      <td>7508492919</td>\n",
       "      <td>good case low price right never problems besid...</td>\n",
       "      <td>case,cute,bow,stones,pretty,compliments,phone,...</td>\n",
       "    </tr>\n",
       "    <tr>\n",
       "      <th>1</th>\n",
       "      <td>7532385086</td>\n",
       "      <td>excited first got case loved color feel starte...</td>\n",
       "      <td>thisgoodi,arrivei,refund,phonereceived,snazzy,...</td>\n",
       "    </tr>\n",
       "    <tr>\n",
       "      <th>2</th>\n",
       "      <td>7887421268</td>\n",
       "      <td>good itemreceived weeks time nice actually con...</td>\n",
       "      <td>case,itemreceived,electromaster,spots,coversgo...</td>\n",
       "    </tr>\n",
       "    <tr>\n",
       "      <th>3</th>\n",
       "      <td>8199900164</td>\n",
       "      <td>thank youworks time charger stopped working da...</td>\n",
       "      <td>lolbought,chargingawesome,beeps,youworks,work,...</td>\n",
       "    </tr>\n",
       "    <tr>\n",
       "      <th>4</th>\n",
       "      <td>8288853439</td>\n",
       "      <td>great far charger seem last pretty good 3 year...</td>\n",
       "      <td>charger,galaxy,blackberry,chargers,1217,1212,s...</td>\n",
       "    </tr>\n",
       "  </tbody>\n",
       "</table>\n",
       "</div>"
      ],
      "text/plain": [
       "           IC                                             Review  \\\n",
       "0  7508492919  good case low price right never problems besid...   \n",
       "1  7532385086  excited first got case loved color feel starte...   \n",
       "2  7887421268  good itemreceived weeks time nice actually con...   \n",
       "3  8199900164  thank youworks time charger stopped working da...   \n",
       "4  8288853439  great far charger seem last pretty good 3 year...   \n",
       "\n",
       "                                            keywords  \n",
       "0  case,cute,bow,stones,pretty,compliments,phone,...  \n",
       "1  thisgoodi,arrivei,refund,phonereceived,snazzy,...  \n",
       "2  case,itemreceived,electromaster,spots,coversgo...  \n",
       "3  lolbought,chargingawesome,beeps,youworks,work,...  \n",
       "4  charger,galaxy,blackberry,chargers,1217,1212,s...  "
      ]
     },
     "execution_count": 181,
     "metadata": {},
     "output_type": "execute_result"
    }
   ],
   "source": [
    "df.head()"
   ]
  },
  {
   "cell_type": "code",
   "execution_count": null,
   "metadata": {},
   "outputs": [],
   "source": []
  },
  {
   "cell_type": "code",
   "execution_count": null,
   "metadata": {},
   "outputs": [],
   "source": []
  },
  {
   "cell_type": "code",
   "execution_count": null,
   "metadata": {},
   "outputs": [],
   "source": []
  },
  {
   "cell_type": "code",
   "execution_count": null,
   "metadata": {},
   "outputs": [],
   "source": []
  },
  {
   "cell_type": "code",
   "execution_count": null,
   "metadata": {},
   "outputs": [],
   "source": []
  },
  {
   "cell_type": "markdown",
   "metadata": {},
   "source": [
    "# Feature Extraction from Rating"
   ]
  },
  {
   "cell_type": "code",
   "execution_count": 183,
   "metadata": {},
   "outputs": [],
   "source": [
    "column=['Rev_verify','Year','Month','Review','Rev_summ']\n",
    "rating_data = train_data.drop(column,axis=1)"
   ]
  },
  {
   "cell_type": "code",
   "execution_count": 184,
   "metadata": {},
   "outputs": [],
   "source": [
    "group_mean = rating_data.groupby(['IC'],as_index=False).mean()"
   ]
  },
  {
   "cell_type": "code",
   "execution_count": 185,
   "metadata": {},
   "outputs": [
    {
     "data": {
      "text/html": [
       "<div>\n",
       "<style scoped>\n",
       "    .dataframe tbody tr th:only-of-type {\n",
       "        vertical-align: middle;\n",
       "    }\n",
       "\n",
       "    .dataframe tbody tr th {\n",
       "        vertical-align: top;\n",
       "    }\n",
       "\n",
       "    .dataframe thead th {\n",
       "        text-align: right;\n",
       "    }\n",
       "</style>\n",
       "<table border=\"1\" class=\"dataframe\">\n",
       "  <thead>\n",
       "    <tr style=\"text-align: right;\">\n",
       "      <th></th>\n",
       "      <th>IC</th>\n",
       "      <th>Rating</th>\n",
       "    </tr>\n",
       "  </thead>\n",
       "  <tbody>\n",
       "    <tr>\n",
       "      <th>0</th>\n",
       "      <td>7508492919</td>\n",
       "      <td>4.300000</td>\n",
       "    </tr>\n",
       "    <tr>\n",
       "      <th>1</th>\n",
       "      <td>7532385086</td>\n",
       "      <td>3.285714</td>\n",
       "    </tr>\n",
       "    <tr>\n",
       "      <th>2</th>\n",
       "      <td>7887421268</td>\n",
       "      <td>3.538462</td>\n",
       "    </tr>\n",
       "    <tr>\n",
       "      <th>3</th>\n",
       "      <td>8199900164</td>\n",
       "      <td>3.750000</td>\n",
       "    </tr>\n",
       "    <tr>\n",
       "      <th>4</th>\n",
       "      <td>8288853439</td>\n",
       "      <td>3.818182</td>\n",
       "    </tr>\n",
       "  </tbody>\n",
       "</table>\n",
       "</div>"
      ],
      "text/plain": [
       "           IC    Rating\n",
       "0  7508492919  4.300000\n",
       "1  7532385086  3.285714\n",
       "2  7887421268  3.538462\n",
       "3  8199900164  3.750000\n",
       "4  8288853439  3.818182"
      ]
     },
     "execution_count": 185,
     "metadata": {},
     "output_type": "execute_result"
    }
   ],
   "source": [
    "group_mean.head()"
   ]
  },
  {
   "cell_type": "code",
   "execution_count": 186,
   "metadata": {},
   "outputs": [
    {
     "data": {
      "text/plain": [
       "(48133, 2)"
      ]
     },
     "execution_count": 186,
     "metadata": {},
     "output_type": "execute_result"
    }
   ],
   "source": [
    "group_mean.shape"
   ]
  },
  {
   "cell_type": "code",
   "execution_count": 187,
   "metadata": {},
   "outputs": [],
   "source": [
    "group_max = rating_data.groupby(['IC'],as_index=False).max()"
   ]
  },
  {
   "cell_type": "code",
   "execution_count": 188,
   "metadata": {},
   "outputs": [
    {
     "data": {
      "text/html": [
       "<div>\n",
       "<style scoped>\n",
       "    .dataframe tbody tr th:only-of-type {\n",
       "        vertical-align: middle;\n",
       "    }\n",
       "\n",
       "    .dataframe tbody tr th {\n",
       "        vertical-align: top;\n",
       "    }\n",
       "\n",
       "    .dataframe thead th {\n",
       "        text-align: right;\n",
       "    }\n",
       "</style>\n",
       "<table border=\"1\" class=\"dataframe\">\n",
       "  <thead>\n",
       "    <tr style=\"text-align: right;\">\n",
       "      <th></th>\n",
       "      <th>IC</th>\n",
       "      <th>Rating</th>\n",
       "    </tr>\n",
       "  </thead>\n",
       "  <tbody>\n",
       "    <tr>\n",
       "      <th>0</th>\n",
       "      <td>7508492919</td>\n",
       "      <td>5.0</td>\n",
       "    </tr>\n",
       "    <tr>\n",
       "      <th>1</th>\n",
       "      <td>7532385086</td>\n",
       "      <td>5.0</td>\n",
       "    </tr>\n",
       "    <tr>\n",
       "      <th>2</th>\n",
       "      <td>7887421268</td>\n",
       "      <td>5.0</td>\n",
       "    </tr>\n",
       "    <tr>\n",
       "      <th>3</th>\n",
       "      <td>8199900164</td>\n",
       "      <td>5.0</td>\n",
       "    </tr>\n",
       "    <tr>\n",
       "      <th>4</th>\n",
       "      <td>8288853439</td>\n",
       "      <td>5.0</td>\n",
       "    </tr>\n",
       "  </tbody>\n",
       "</table>\n",
       "</div>"
      ],
      "text/plain": [
       "           IC  Rating\n",
       "0  7508492919     5.0\n",
       "1  7532385086     5.0\n",
       "2  7887421268     5.0\n",
       "3  8199900164     5.0\n",
       "4  8288853439     5.0"
      ]
     },
     "execution_count": 188,
     "metadata": {},
     "output_type": "execute_result"
    }
   ],
   "source": [
    "group_max.head()"
   ]
  },
  {
   "cell_type": "code",
   "execution_count": 189,
   "metadata": {},
   "outputs": [],
   "source": [
    "group_min = rating_data.groupby(['IC'],as_index=False).min()"
   ]
  },
  {
   "cell_type": "code",
   "execution_count": 190,
   "metadata": {},
   "outputs": [
    {
     "data": {
      "text/html": [
       "<div>\n",
       "<style scoped>\n",
       "    .dataframe tbody tr th:only-of-type {\n",
       "        vertical-align: middle;\n",
       "    }\n",
       "\n",
       "    .dataframe tbody tr th {\n",
       "        vertical-align: top;\n",
       "    }\n",
       "\n",
       "    .dataframe thead th {\n",
       "        text-align: right;\n",
       "    }\n",
       "</style>\n",
       "<table border=\"1\" class=\"dataframe\">\n",
       "  <thead>\n",
       "    <tr style=\"text-align: right;\">\n",
       "      <th></th>\n",
       "      <th>IC</th>\n",
       "      <th>Rating</th>\n",
       "    </tr>\n",
       "  </thead>\n",
       "  <tbody>\n",
       "    <tr>\n",
       "      <th>0</th>\n",
       "      <td>7508492919</td>\n",
       "      <td>1.0</td>\n",
       "    </tr>\n",
       "    <tr>\n",
       "      <th>1</th>\n",
       "      <td>7532385086</td>\n",
       "      <td>1.0</td>\n",
       "    </tr>\n",
       "    <tr>\n",
       "      <th>2</th>\n",
       "      <td>7887421268</td>\n",
       "      <td>1.0</td>\n",
       "    </tr>\n",
       "    <tr>\n",
       "      <th>3</th>\n",
       "      <td>8199900164</td>\n",
       "      <td>2.0</td>\n",
       "    </tr>\n",
       "    <tr>\n",
       "      <th>4</th>\n",
       "      <td>8288853439</td>\n",
       "      <td>1.0</td>\n",
       "    </tr>\n",
       "  </tbody>\n",
       "</table>\n",
       "</div>"
      ],
      "text/plain": [
       "           IC  Rating\n",
       "0  7508492919     1.0\n",
       "1  7532385086     1.0\n",
       "2  7887421268     1.0\n",
       "3  8199900164     2.0\n",
       "4  8288853439     1.0"
      ]
     },
     "execution_count": 190,
     "metadata": {},
     "output_type": "execute_result"
    }
   ],
   "source": [
    "group_min.head()"
   ]
  },
  {
   "cell_type": "code",
   "execution_count": 191,
   "metadata": {},
   "outputs": [],
   "source": [
    "rating_1 = pd.merge(group_max, group_mean, left_on='IC', right_on='IC', how='left',suffixes=('_Max','_Mean'))"
   ]
  },
  {
   "cell_type": "code",
   "execution_count": 192,
   "metadata": {},
   "outputs": [
    {
     "data": {
      "text/html": [
       "<div>\n",
       "<style scoped>\n",
       "    .dataframe tbody tr th:only-of-type {\n",
       "        vertical-align: middle;\n",
       "    }\n",
       "\n",
       "    .dataframe tbody tr th {\n",
       "        vertical-align: top;\n",
       "    }\n",
       "\n",
       "    .dataframe thead th {\n",
       "        text-align: right;\n",
       "    }\n",
       "</style>\n",
       "<table border=\"1\" class=\"dataframe\">\n",
       "  <thead>\n",
       "    <tr style=\"text-align: right;\">\n",
       "      <th></th>\n",
       "      <th>IC</th>\n",
       "      <th>Rating_Max</th>\n",
       "      <th>Rating_Mean</th>\n",
       "    </tr>\n",
       "  </thead>\n",
       "  <tbody>\n",
       "    <tr>\n",
       "      <th>0</th>\n",
       "      <td>7508492919</td>\n",
       "      <td>5.0</td>\n",
       "      <td>4.300000</td>\n",
       "    </tr>\n",
       "    <tr>\n",
       "      <th>1</th>\n",
       "      <td>7532385086</td>\n",
       "      <td>5.0</td>\n",
       "      <td>3.285714</td>\n",
       "    </tr>\n",
       "    <tr>\n",
       "      <th>2</th>\n",
       "      <td>7887421268</td>\n",
       "      <td>5.0</td>\n",
       "      <td>3.538462</td>\n",
       "    </tr>\n",
       "    <tr>\n",
       "      <th>3</th>\n",
       "      <td>8199900164</td>\n",
       "      <td>5.0</td>\n",
       "      <td>3.750000</td>\n",
       "    </tr>\n",
       "    <tr>\n",
       "      <th>4</th>\n",
       "      <td>8288853439</td>\n",
       "      <td>5.0</td>\n",
       "      <td>3.818182</td>\n",
       "    </tr>\n",
       "  </tbody>\n",
       "</table>\n",
       "</div>"
      ],
      "text/plain": [
       "           IC  Rating_Max  Rating_Mean\n",
       "0  7508492919         5.0     4.300000\n",
       "1  7532385086         5.0     3.285714\n",
       "2  7887421268         5.0     3.538462\n",
       "3  8199900164         5.0     3.750000\n",
       "4  8288853439         5.0     3.818182"
      ]
     },
     "execution_count": 192,
     "metadata": {},
     "output_type": "execute_result"
    }
   ],
   "source": [
    "rating_1.head()"
   ]
  },
  {
   "cell_type": "code",
   "execution_count": 194,
   "metadata": {},
   "outputs": [],
   "source": [
    "rating_final = pd.merge(rating_1, group_min, left_on='IC', right_on='IC', how='left')"
   ]
  },
  {
   "cell_type": "code",
   "execution_count": 195,
   "metadata": {},
   "outputs": [
    {
     "data": {
      "text/html": [
       "<div>\n",
       "<style scoped>\n",
       "    .dataframe tbody tr th:only-of-type {\n",
       "        vertical-align: middle;\n",
       "    }\n",
       "\n",
       "    .dataframe tbody tr th {\n",
       "        vertical-align: top;\n",
       "    }\n",
       "\n",
       "    .dataframe thead th {\n",
       "        text-align: right;\n",
       "    }\n",
       "</style>\n",
       "<table border=\"1\" class=\"dataframe\">\n",
       "  <thead>\n",
       "    <tr style=\"text-align: right;\">\n",
       "      <th></th>\n",
       "      <th>IC</th>\n",
       "      <th>Rating_Max</th>\n",
       "      <th>Rating_Mean</th>\n",
       "      <th>Rating</th>\n",
       "    </tr>\n",
       "  </thead>\n",
       "  <tbody>\n",
       "    <tr>\n",
       "      <th>0</th>\n",
       "      <td>7508492919</td>\n",
       "      <td>5.0</td>\n",
       "      <td>4.300000</td>\n",
       "      <td>1.0</td>\n",
       "    </tr>\n",
       "    <tr>\n",
       "      <th>1</th>\n",
       "      <td>7532385086</td>\n",
       "      <td>5.0</td>\n",
       "      <td>3.285714</td>\n",
       "      <td>1.0</td>\n",
       "    </tr>\n",
       "    <tr>\n",
       "      <th>2</th>\n",
       "      <td>7887421268</td>\n",
       "      <td>5.0</td>\n",
       "      <td>3.538462</td>\n",
       "      <td>1.0</td>\n",
       "    </tr>\n",
       "    <tr>\n",
       "      <th>3</th>\n",
       "      <td>8199900164</td>\n",
       "      <td>5.0</td>\n",
       "      <td>3.750000</td>\n",
       "      <td>2.0</td>\n",
       "    </tr>\n",
       "    <tr>\n",
       "      <th>4</th>\n",
       "      <td>8288853439</td>\n",
       "      <td>5.0</td>\n",
       "      <td>3.818182</td>\n",
       "      <td>1.0</td>\n",
       "    </tr>\n",
       "  </tbody>\n",
       "</table>\n",
       "</div>"
      ],
      "text/plain": [
       "           IC  Rating_Max  Rating_Mean  Rating\n",
       "0  7508492919         5.0     4.300000     1.0\n",
       "1  7532385086         5.0     3.285714     1.0\n",
       "2  7887421268         5.0     3.538462     1.0\n",
       "3  8199900164         5.0     3.750000     2.0\n",
       "4  8288853439         5.0     3.818182     1.0"
      ]
     },
     "execution_count": 195,
     "metadata": {},
     "output_type": "execute_result"
    }
   ],
   "source": [
    "rating_final.head()"
   ]
  },
  {
   "cell_type": "code",
   "execution_count": 196,
   "metadata": {},
   "outputs": [
    {
     "data": {
      "text/plain": [
       "(48133, 4)"
      ]
     },
     "execution_count": 196,
     "metadata": {},
     "output_type": "execute_result"
    }
   ],
   "source": [
    "rating_final.shape"
   ]
  },
  {
   "cell_type": "code",
   "execution_count": 197,
   "metadata": {},
   "outputs": [
    {
     "data": {
      "text/plain": [
       "IC             0\n",
       "Rating_Max     0\n",
       "Rating_Mean    0\n",
       "Rating         0\n",
       "dtype: int64"
      ]
     },
     "execution_count": 197,
     "metadata": {},
     "output_type": "execute_result"
    }
   ],
   "source": [
    "rating_final.isnull().sum()"
   ]
  },
  {
   "cell_type": "code",
   "execution_count": null,
   "metadata": {},
   "outputs": [],
   "source": []
  },
  {
   "cell_type": "code",
   "execution_count": null,
   "metadata": {},
   "outputs": [],
   "source": []
  },
  {
   "cell_type": "code",
   "execution_count": null,
   "metadata": {},
   "outputs": [],
   "source": []
  },
  {
   "cell_type": "code",
   "execution_count": null,
   "metadata": {},
   "outputs": [],
   "source": []
  },
  {
   "cell_type": "code",
   "execution_count": null,
   "metadata": {},
   "outputs": [],
   "source": []
  },
  {
   "cell_type": "markdown",
   "metadata": {},
   "source": [
    "# Loaded Dataframe"
   ]
  },
  {
   "cell_type": "code",
   "execution_count": 198,
   "metadata": {},
   "outputs": [],
   "source": [
    "final_data = pd.merge(rating_final,df, left_on='IC', right_on='IC', how='left')"
   ]
  },
  {
   "cell_type": "code",
   "execution_count": 227,
   "metadata": {},
   "outputs": [
    {
     "data": {
      "text/html": [
       "<div>\n",
       "<style scoped>\n",
       "    .dataframe tbody tr th:only-of-type {\n",
       "        vertical-align: middle;\n",
       "    }\n",
       "\n",
       "    .dataframe tbody tr th {\n",
       "        vertical-align: top;\n",
       "    }\n",
       "\n",
       "    .dataframe thead th {\n",
       "        text-align: right;\n",
       "    }\n",
       "</style>\n",
       "<table border=\"1\" class=\"dataframe\">\n",
       "  <thead>\n",
       "    <tr style=\"text-align: right;\">\n",
       "      <th></th>\n",
       "      <th>IC</th>\n",
       "      <th>Rating_Max</th>\n",
       "      <th>Rating_Mean</th>\n",
       "      <th>Rating</th>\n",
       "      <th>Review</th>\n",
       "      <th>keywords</th>\n",
       "    </tr>\n",
       "  </thead>\n",
       "  <tbody>\n",
       "    <tr>\n",
       "      <th>0</th>\n",
       "      <td>7508492919</td>\n",
       "      <td>5.0</td>\n",
       "      <td>4.300000</td>\n",
       "      <td>1.0</td>\n",
       "      <td>good case low price right never problems besid...</td>\n",
       "      <td>case,cute,bow,stones,pretty,compliments,phone,...</td>\n",
       "    </tr>\n",
       "    <tr>\n",
       "      <th>1</th>\n",
       "      <td>7532385086</td>\n",
       "      <td>5.0</td>\n",
       "      <td>3.285714</td>\n",
       "      <td>1.0</td>\n",
       "      <td>excited first got case loved color feel starte...</td>\n",
       "      <td>thisgoodi,arrivei,refund,phonereceived,snazzy,...</td>\n",
       "    </tr>\n",
       "    <tr>\n",
       "      <th>2</th>\n",
       "      <td>7887421268</td>\n",
       "      <td>5.0</td>\n",
       "      <td>3.538462</td>\n",
       "      <td>1.0</td>\n",
       "      <td>good itemreceived weeks time nice actually con...</td>\n",
       "      <td>case,itemreceived,electromaster,spots,coversgo...</td>\n",
       "    </tr>\n",
       "    <tr>\n",
       "      <th>3</th>\n",
       "      <td>8199900164</td>\n",
       "      <td>5.0</td>\n",
       "      <td>3.750000</td>\n",
       "      <td>2.0</td>\n",
       "      <td>thank youworks time charger stopped working da...</td>\n",
       "      <td>lolbought,chargingawesome,beeps,youworks,work,...</td>\n",
       "    </tr>\n",
       "    <tr>\n",
       "      <th>4</th>\n",
       "      <td>8288853439</td>\n",
       "      <td>5.0</td>\n",
       "      <td>3.818182</td>\n",
       "      <td>1.0</td>\n",
       "      <td>great far charger seem last pretty good 3 year...</td>\n",
       "      <td>charger,galaxy,blackberry,chargers,1217,1212,s...</td>\n",
       "    </tr>\n",
       "  </tbody>\n",
       "</table>\n",
       "</div>"
      ],
      "text/plain": [
       "           IC  Rating_Max  Rating_Mean  Rating  \\\n",
       "0  7508492919         5.0     4.300000     1.0   \n",
       "1  7532385086         5.0     3.285714     1.0   \n",
       "2  7887421268         5.0     3.538462     1.0   \n",
       "3  8199900164         5.0     3.750000     2.0   \n",
       "4  8288853439         5.0     3.818182     1.0   \n",
       "\n",
       "                                              Review  \\\n",
       "0  good case low price right never problems besid...   \n",
       "1  excited first got case loved color feel starte...   \n",
       "2  good itemreceived weeks time nice actually con...   \n",
       "3  thank youworks time charger stopped working da...   \n",
       "4  great far charger seem last pretty good 3 year...   \n",
       "\n",
       "                                            keywords  \n",
       "0  case,cute,bow,stones,pretty,compliments,phone,...  \n",
       "1  thisgoodi,arrivei,refund,phonereceived,snazzy,...  \n",
       "2  case,itemreceived,electromaster,spots,coversgo...  \n",
       "3  lolbought,chargingawesome,beeps,youworks,work,...  \n",
       "4  charger,galaxy,blackberry,chargers,1217,1212,s...  "
      ]
     },
     "execution_count": 227,
     "metadata": {},
     "output_type": "execute_result"
    }
   ],
   "source": [
    "final_data.head()"
   ]
  },
  {
   "cell_type": "code",
   "execution_count": null,
   "metadata": {},
   "outputs": [],
   "source": []
  },
  {
   "cell_type": "code",
   "execution_count": null,
   "metadata": {},
   "outputs": [],
   "source": []
  },
  {
   "cell_type": "code",
   "execution_count": null,
   "metadata": {},
   "outputs": [],
   "source": []
  },
  {
   "cell_type": "code",
   "execution_count": null,
   "metadata": {},
   "outputs": [],
   "source": []
  },
  {
   "cell_type": "code",
   "execution_count": null,
   "metadata": {},
   "outputs": [],
   "source": []
  },
  {
   "cell_type": "markdown",
   "metadata": {},
   "source": [
    "## Let’s check the polarity of this sample review. Polarity ranges from -1 (most negative) to 1 (most positive)"
   ]
  },
  {
   "cell_type": "code",
   "execution_count": 226,
   "metadata": {},
   "outputs": [],
   "source": [
    "from nltk.stem.wordnet import WordNetLemmatizer\n",
    "w_tokenizer = nltk.tokenize.WhitespaceTokenizer()\n",
    "lemmatizer = nltk.stem.WordNetLemmatizer()\n",
    "\n",
    "def lemmatize_text(text):\n",
    "    return [lemmatizer.lemmatize(w) for w in w_tokenizer.tokenize(text)]"
   ]
  },
  {
   "cell_type": "code",
   "execution_count": 229,
   "metadata": {},
   "outputs": [],
   "source": [
    "final_data['text_lemmatized'] = final_data.Review.apply(lemmatize_text)"
   ]
  },
  {
   "cell_type": "code",
   "execution_count": 230,
   "metadata": {},
   "outputs": [
    {
     "data": {
      "text/html": [
       "<div>\n",
       "<style scoped>\n",
       "    .dataframe tbody tr th:only-of-type {\n",
       "        vertical-align: middle;\n",
       "    }\n",
       "\n",
       "    .dataframe tbody tr th {\n",
       "        vertical-align: top;\n",
       "    }\n",
       "\n",
       "    .dataframe thead th {\n",
       "        text-align: right;\n",
       "    }\n",
       "</style>\n",
       "<table border=\"1\" class=\"dataframe\">\n",
       "  <thead>\n",
       "    <tr style=\"text-align: right;\">\n",
       "      <th></th>\n",
       "      <th>IC</th>\n",
       "      <th>Rating_Max</th>\n",
       "      <th>Rating_Mean</th>\n",
       "      <th>Rating</th>\n",
       "      <th>Review</th>\n",
       "      <th>keywords</th>\n",
       "      <th>text_lemmatized</th>\n",
       "    </tr>\n",
       "  </thead>\n",
       "  <tbody>\n",
       "    <tr>\n",
       "      <th>0</th>\n",
       "      <td>7508492919</td>\n",
       "      <td>5.0</td>\n",
       "      <td>4.300000</td>\n",
       "      <td>1.0</td>\n",
       "      <td>good case low price right never problems besid...</td>\n",
       "      <td>case,cute,bow,stones,pretty,compliments,phone,...</td>\n",
       "      <td>[good, case, low, price, right, never, problem...</td>\n",
       "    </tr>\n",
       "    <tr>\n",
       "      <th>1</th>\n",
       "      <td>7532385086</td>\n",
       "      <td>5.0</td>\n",
       "      <td>3.285714</td>\n",
       "      <td>1.0</td>\n",
       "      <td>excited first got case loved color feel starte...</td>\n",
       "      <td>thisgoodi,arrivei,refund,phonereceived,snazzy,...</td>\n",
       "      <td>[excited, first, got, case, loved, color, feel...</td>\n",
       "    </tr>\n",
       "    <tr>\n",
       "      <th>2</th>\n",
       "      <td>7887421268</td>\n",
       "      <td>5.0</td>\n",
       "      <td>3.538462</td>\n",
       "      <td>1.0</td>\n",
       "      <td>good itemreceived weeks time nice actually con...</td>\n",
       "      <td>case,itemreceived,electromaster,spots,coversgo...</td>\n",
       "      <td>[good, itemreceived, week, time, nice, actuall...</td>\n",
       "    </tr>\n",
       "    <tr>\n",
       "      <th>3</th>\n",
       "      <td>8199900164</td>\n",
       "      <td>5.0</td>\n",
       "      <td>3.750000</td>\n",
       "      <td>2.0</td>\n",
       "      <td>thank youworks time charger stopped working da...</td>\n",
       "      <td>lolbought,chargingawesome,beeps,youworks,work,...</td>\n",
       "      <td>[thank, youworks, time, charger, stopped, work...</td>\n",
       "    </tr>\n",
       "    <tr>\n",
       "      <th>4</th>\n",
       "      <td>8288853439</td>\n",
       "      <td>5.0</td>\n",
       "      <td>3.818182</td>\n",
       "      <td>1.0</td>\n",
       "      <td>great far charger seem last pretty good 3 year...</td>\n",
       "      <td>charger,galaxy,blackberry,chargers,1217,1212,s...</td>\n",
       "      <td>[great, far, charger, seem, last, pretty, good...</td>\n",
       "    </tr>\n",
       "  </tbody>\n",
       "</table>\n",
       "</div>"
      ],
      "text/plain": [
       "           IC  Rating_Max  Rating_Mean  Rating  \\\n",
       "0  7508492919         5.0     4.300000     1.0   \n",
       "1  7532385086         5.0     3.285714     1.0   \n",
       "2  7887421268         5.0     3.538462     1.0   \n",
       "3  8199900164         5.0     3.750000     2.0   \n",
       "4  8288853439         5.0     3.818182     1.0   \n",
       "\n",
       "                                              Review  \\\n",
       "0  good case low price right never problems besid...   \n",
       "1  excited first got case loved color feel starte...   \n",
       "2  good itemreceived weeks time nice actually con...   \n",
       "3  thank youworks time charger stopped working da...   \n",
       "4  great far charger seem last pretty good 3 year...   \n",
       "\n",
       "                                            keywords  \\\n",
       "0  case,cute,bow,stones,pretty,compliments,phone,...   \n",
       "1  thisgoodi,arrivei,refund,phonereceived,snazzy,...   \n",
       "2  case,itemreceived,electromaster,spots,coversgo...   \n",
       "3  lolbought,chargingawesome,beeps,youworks,work,...   \n",
       "4  charger,galaxy,blackberry,chargers,1217,1212,s...   \n",
       "\n",
       "                                     text_lemmatized  \n",
       "0  [good, case, low, price, right, never, problem...  \n",
       "1  [excited, first, got, case, loved, color, feel...  \n",
       "2  [good, itemreceived, week, time, nice, actuall...  \n",
       "3  [thank, youworks, time, charger, stopped, work...  \n",
       "4  [great, far, charger, seem, last, pretty, good...  "
      ]
     },
     "execution_count": 230,
     "metadata": {},
     "output_type": "execute_result"
    }
   ],
   "source": [
    "final_data.head()"
   ]
  },
  {
   "cell_type": "code",
   "execution_count": 231,
   "metadata": {},
   "outputs": [],
   "source": [
    "final_data['text_lemmatized'] = [','.join(map(str, l)) for l in final_data['text_lemmatized']]"
   ]
  },
  {
   "cell_type": "code",
   "execution_count": 238,
   "metadata": {},
   "outputs": [],
   "source": [
    "df6 = final_data.replace(',',' ', regex=True)"
   ]
  },
  {
   "cell_type": "code",
   "execution_count": 239,
   "metadata": {},
   "outputs": [
    {
     "data": {
      "text/html": [
       "<div>\n",
       "<style scoped>\n",
       "    .dataframe tbody tr th:only-of-type {\n",
       "        vertical-align: middle;\n",
       "    }\n",
       "\n",
       "    .dataframe tbody tr th {\n",
       "        vertical-align: top;\n",
       "    }\n",
       "\n",
       "    .dataframe thead th {\n",
       "        text-align: right;\n",
       "    }\n",
       "</style>\n",
       "<table border=\"1\" class=\"dataframe\">\n",
       "  <thead>\n",
       "    <tr style=\"text-align: right;\">\n",
       "      <th></th>\n",
       "      <th>IC</th>\n",
       "      <th>Rating_Max</th>\n",
       "      <th>Rating_Mean</th>\n",
       "      <th>Rating</th>\n",
       "      <th>Review</th>\n",
       "      <th>keywords</th>\n",
       "      <th>text_lemmatized</th>\n",
       "    </tr>\n",
       "  </thead>\n",
       "  <tbody>\n",
       "    <tr>\n",
       "      <th>0</th>\n",
       "      <td>7508492919</td>\n",
       "      <td>5.0</td>\n",
       "      <td>4.300000</td>\n",
       "      <td>1.0</td>\n",
       "      <td>good case low price right never problems besid...</td>\n",
       "      <td>case cute bow stones pretty compliments phone ...</td>\n",
       "      <td>good case low price right never problem beside...</td>\n",
       "    </tr>\n",
       "    <tr>\n",
       "      <th>1</th>\n",
       "      <td>7532385086</td>\n",
       "      <td>5.0</td>\n",
       "      <td>3.285714</td>\n",
       "      <td>1.0</td>\n",
       "      <td>excited first got case loved color feel starte...</td>\n",
       "      <td>thisgoodi arrivei refund phonereceived snazzy ...</td>\n",
       "      <td>excited first got case loved color feel starte...</td>\n",
       "    </tr>\n",
       "    <tr>\n",
       "      <th>2</th>\n",
       "      <td>7887421268</td>\n",
       "      <td>5.0</td>\n",
       "      <td>3.538462</td>\n",
       "      <td>1.0</td>\n",
       "      <td>good itemreceived weeks time nice actually con...</td>\n",
       "      <td>case itemreceived electromaster spots coversgo...</td>\n",
       "      <td>good itemreceived week time nice actually cons...</td>\n",
       "    </tr>\n",
       "    <tr>\n",
       "      <th>3</th>\n",
       "      <td>8199900164</td>\n",
       "      <td>5.0</td>\n",
       "      <td>3.750000</td>\n",
       "      <td>2.0</td>\n",
       "      <td>thank youworks time charger stopped working da...</td>\n",
       "      <td>lolbought chargingawesome beeps youworks work ...</td>\n",
       "      <td>thank youworks time charger stopped working da...</td>\n",
       "    </tr>\n",
       "    <tr>\n",
       "      <th>4</th>\n",
       "      <td>8288853439</td>\n",
       "      <td>5.0</td>\n",
       "      <td>3.818182</td>\n",
       "      <td>1.0</td>\n",
       "      <td>great far charger seem last pretty good 3 year...</td>\n",
       "      <td>charger galaxy blackberry chargers 1217 1212 s...</td>\n",
       "      <td>great far charger seem last pretty good 3 year...</td>\n",
       "    </tr>\n",
       "  </tbody>\n",
       "</table>\n",
       "</div>"
      ],
      "text/plain": [
       "           IC  Rating_Max  Rating_Mean  Rating  \\\n",
       "0  7508492919         5.0     4.300000     1.0   \n",
       "1  7532385086         5.0     3.285714     1.0   \n",
       "2  7887421268         5.0     3.538462     1.0   \n",
       "3  8199900164         5.0     3.750000     2.0   \n",
       "4  8288853439         5.0     3.818182     1.0   \n",
       "\n",
       "                                              Review  \\\n",
       "0  good case low price right never problems besid...   \n",
       "1  excited first got case loved color feel starte...   \n",
       "2  good itemreceived weeks time nice actually con...   \n",
       "3  thank youworks time charger stopped working da...   \n",
       "4  great far charger seem last pretty good 3 year...   \n",
       "\n",
       "                                            keywords  \\\n",
       "0  case cute bow stones pretty compliments phone ...   \n",
       "1  thisgoodi arrivei refund phonereceived snazzy ...   \n",
       "2  case itemreceived electromaster spots coversgo...   \n",
       "3  lolbought chargingawesome beeps youworks work ...   \n",
       "4  charger galaxy blackberry chargers 1217 1212 s...   \n",
       "\n",
       "                                     text_lemmatized  \n",
       "0  good case low price right never problem beside...  \n",
       "1  excited first got case loved color feel starte...  \n",
       "2  good itemreceived week time nice actually cons...  \n",
       "3  thank youworks time charger stopped working da...  \n",
       "4  great far charger seem last pretty good 3 year...  "
      ]
     },
     "execution_count": 239,
     "metadata": {},
     "output_type": "execute_result"
    }
   ],
   "source": [
    "df6.head()"
   ]
  },
  {
   "cell_type": "code",
   "execution_count": 240,
   "metadata": {},
   "outputs": [],
   "source": [
    "from textblob import TextBlob\n",
    "df6[['polarity', 'subjectivity']] = df6['text_lemmatized'].apply(lambda Text: pd.Series(TextBlob(Text).sentiment))"
   ]
  },
  {
   "cell_type": "code",
   "execution_count": 241,
   "metadata": {},
   "outputs": [
    {
     "data": {
      "text/html": [
       "<div>\n",
       "<style scoped>\n",
       "    .dataframe tbody tr th:only-of-type {\n",
       "        vertical-align: middle;\n",
       "    }\n",
       "\n",
       "    .dataframe tbody tr th {\n",
       "        vertical-align: top;\n",
       "    }\n",
       "\n",
       "    .dataframe thead th {\n",
       "        text-align: right;\n",
       "    }\n",
       "</style>\n",
       "<table border=\"1\" class=\"dataframe\">\n",
       "  <thead>\n",
       "    <tr style=\"text-align: right;\">\n",
       "      <th></th>\n",
       "      <th>IC</th>\n",
       "      <th>Rating_Max</th>\n",
       "      <th>Rating_Mean</th>\n",
       "      <th>Rating</th>\n",
       "      <th>Review</th>\n",
       "      <th>keywords</th>\n",
       "      <th>text_lemmatized</th>\n",
       "      <th>polarity</th>\n",
       "      <th>subjectivity</th>\n",
       "    </tr>\n",
       "  </thead>\n",
       "  <tbody>\n",
       "    <tr>\n",
       "      <th>0</th>\n",
       "      <td>7508492919</td>\n",
       "      <td>5.0</td>\n",
       "      <td>4.300000</td>\n",
       "      <td>1.0</td>\n",
       "      <td>good case low price right never problems besid...</td>\n",
       "      <td>case cute bow stones pretty compliments phone ...</td>\n",
       "      <td>good case low price right never problem beside...</td>\n",
       "      <td>0.300607</td>\n",
       "      <td>0.653035</td>\n",
       "    </tr>\n",
       "    <tr>\n",
       "      <th>1</th>\n",
       "      <td>7532385086</td>\n",
       "      <td>5.0</td>\n",
       "      <td>3.285714</td>\n",
       "      <td>1.0</td>\n",
       "      <td>excited first got case loved color feel starte...</td>\n",
       "      <td>thisgoodi arrivei refund phonereceived snazzy ...</td>\n",
       "      <td>excited first got case loved color feel starte...</td>\n",
       "      <td>0.261528</td>\n",
       "      <td>0.501121</td>\n",
       "    </tr>\n",
       "    <tr>\n",
       "      <th>2</th>\n",
       "      <td>7887421268</td>\n",
       "      <td>5.0</td>\n",
       "      <td>3.538462</td>\n",
       "      <td>1.0</td>\n",
       "      <td>good itemreceived weeks time nice actually con...</td>\n",
       "      <td>case itemreceived electromaster spots coversgo...</td>\n",
       "      <td>good itemreceived week time nice actually cons...</td>\n",
       "      <td>0.313355</td>\n",
       "      <td>0.534117</td>\n",
       "    </tr>\n",
       "    <tr>\n",
       "      <th>3</th>\n",
       "      <td>8199900164</td>\n",
       "      <td>5.0</td>\n",
       "      <td>3.750000</td>\n",
       "      <td>2.0</td>\n",
       "      <td>thank youworks time charger stopped working da...</td>\n",
       "      <td>lolbought chargingawesome beeps youworks work ...</td>\n",
       "      <td>thank youworks time charger stopped working da...</td>\n",
       "      <td>0.500000</td>\n",
       "      <td>0.500000</td>\n",
       "    </tr>\n",
       "    <tr>\n",
       "      <th>4</th>\n",
       "      <td>8288853439</td>\n",
       "      <td>5.0</td>\n",
       "      <td>3.818182</td>\n",
       "      <td>1.0</td>\n",
       "      <td>great far charger seem last pretty good 3 year...</td>\n",
       "      <td>charger galaxy blackberry chargers 1217 1212 s...</td>\n",
       "      <td>great far charger seem last pretty good 3 year...</td>\n",
       "      <td>0.191157</td>\n",
       "      <td>0.605900</td>\n",
       "    </tr>\n",
       "  </tbody>\n",
       "</table>\n",
       "</div>"
      ],
      "text/plain": [
       "           IC  Rating_Max  Rating_Mean  Rating  \\\n",
       "0  7508492919         5.0     4.300000     1.0   \n",
       "1  7532385086         5.0     3.285714     1.0   \n",
       "2  7887421268         5.0     3.538462     1.0   \n",
       "3  8199900164         5.0     3.750000     2.0   \n",
       "4  8288853439         5.0     3.818182     1.0   \n",
       "\n",
       "                                              Review  \\\n",
       "0  good case low price right never problems besid...   \n",
       "1  excited first got case loved color feel starte...   \n",
       "2  good itemreceived weeks time nice actually con...   \n",
       "3  thank youworks time charger stopped working da...   \n",
       "4  great far charger seem last pretty good 3 year...   \n",
       "\n",
       "                                            keywords  \\\n",
       "0  case cute bow stones pretty compliments phone ...   \n",
       "1  thisgoodi arrivei refund phonereceived snazzy ...   \n",
       "2  case itemreceived electromaster spots coversgo...   \n",
       "3  lolbought chargingawesome beeps youworks work ...   \n",
       "4  charger galaxy blackberry chargers 1217 1212 s...   \n",
       "\n",
       "                                     text_lemmatized  polarity  subjectivity  \n",
       "0  good case low price right never problem beside...  0.300607      0.653035  \n",
       "1  excited first got case loved color feel starte...  0.261528      0.501121  \n",
       "2  good itemreceived week time nice actually cons...  0.313355      0.534117  \n",
       "3  thank youworks time charger stopped working da...  0.500000      0.500000  \n",
       "4  great far charger seem last pretty good 3 year...  0.191157      0.605900  "
      ]
     },
     "execution_count": 241,
     "metadata": {},
     "output_type": "execute_result"
    }
   ],
   "source": [
    "df6.head()"
   ]
  },
  {
   "cell_type": "code",
   "execution_count": 242,
   "metadata": {},
   "outputs": [
    {
     "data": {
      "image/png": "[encoded data removed]",
      "text/plain": [
       "<Figure size 720x432 with 1 Axes>"
      ]
     },
     "metadata": {
      "needs_background": "light"
     },
     "output_type": "display_data"
    }
   ],
   "source": [
    "num_bins = 10\n",
    "plt.figure(figsize=(10,6))\n",
    "n, bins, patches = plt.hist(df6.polarity, num_bins, facecolor='blue', alpha=0.5)\n",
    "plt.xlabel('Polarity')\n",
    "plt.ylabel('Count')\n",
    "plt.title('Histogram of polarity')\n",
    "plt.show()"
   ]
  },
  {
   "cell_type": "markdown",
   "metadata": {},
   "source": [
    "### Most of the product reviews are positive as shown in above graph as the polarity is above 0 and thats show the positive sentiment of the customers for all product in tha e-commerece"
   ]
  },
  {
   "cell_type": "code",
   "execution_count": 243,
   "metadata": {},
   "outputs": [],
   "source": [
    "df6[['keywords']] = df6[['keywords']].replace(' ',',', regex=True)"
   ]
  },
  {
   "cell_type": "code",
   "execution_count": 244,
   "metadata": {},
   "outputs": [
    {
     "data": {
      "text/html": [
       "<div>\n",
       "<style scoped>\n",
       "    .dataframe tbody tr th:only-of-type {\n",
       "        vertical-align: middle;\n",
       "    }\n",
       "\n",
       "    .dataframe tbody tr th {\n",
       "        vertical-align: top;\n",
       "    }\n",
       "\n",
       "    .dataframe thead th {\n",
       "        text-align: right;\n",
       "    }\n",
       "</style>\n",
       "<table border=\"1\" class=\"dataframe\">\n",
       "  <thead>\n",
       "    <tr style=\"text-align: right;\">\n",
       "      <th></th>\n",
       "      <th>IC</th>\n",
       "      <th>Rating_Max</th>\n",
       "      <th>Rating_Mean</th>\n",
       "      <th>Rating</th>\n",
       "      <th>Review</th>\n",
       "      <th>keywords</th>\n",
       "      <th>text_lemmatized</th>\n",
       "      <th>polarity</th>\n",
       "      <th>subjectivity</th>\n",
       "    </tr>\n",
       "  </thead>\n",
       "  <tbody>\n",
       "    <tr>\n",
       "      <th>0</th>\n",
       "      <td>7508492919</td>\n",
       "      <td>5.0</td>\n",
       "      <td>4.300000</td>\n",
       "      <td>1.0</td>\n",
       "      <td>good case low price right never problems besid...</td>\n",
       "      <td>case,cute,bow,stones,pretty,compliments,phone,...</td>\n",
       "      <td>good case low price right never problem beside...</td>\n",
       "      <td>0.300607</td>\n",
       "      <td>0.653035</td>\n",
       "    </tr>\n",
       "    <tr>\n",
       "      <th>1</th>\n",
       "      <td>7532385086</td>\n",
       "      <td>5.0</td>\n",
       "      <td>3.285714</td>\n",
       "      <td>1.0</td>\n",
       "      <td>excited first got case loved color feel starte...</td>\n",
       "      <td>thisgoodi,arrivei,refund,phonereceived,snazzy,...</td>\n",
       "      <td>excited first got case loved color feel starte...</td>\n",
       "      <td>0.261528</td>\n",
       "      <td>0.501121</td>\n",
       "    </tr>\n",
       "    <tr>\n",
       "      <th>2</th>\n",
       "      <td>7887421268</td>\n",
       "      <td>5.0</td>\n",
       "      <td>3.538462</td>\n",
       "      <td>1.0</td>\n",
       "      <td>good itemreceived weeks time nice actually con...</td>\n",
       "      <td>case,itemreceived,electromaster,spots,coversgo...</td>\n",
       "      <td>good itemreceived week time nice actually cons...</td>\n",
       "      <td>0.313355</td>\n",
       "      <td>0.534117</td>\n",
       "    </tr>\n",
       "    <tr>\n",
       "      <th>3</th>\n",
       "      <td>8199900164</td>\n",
       "      <td>5.0</td>\n",
       "      <td>3.750000</td>\n",
       "      <td>2.0</td>\n",
       "      <td>thank youworks time charger stopped working da...</td>\n",
       "      <td>lolbought,chargingawesome,beeps,youworks,work,...</td>\n",
       "      <td>thank youworks time charger stopped working da...</td>\n",
       "      <td>0.500000</td>\n",
       "      <td>0.500000</td>\n",
       "    </tr>\n",
       "    <tr>\n",
       "      <th>4</th>\n",
       "      <td>8288853439</td>\n",
       "      <td>5.0</td>\n",
       "      <td>3.818182</td>\n",
       "      <td>1.0</td>\n",
       "      <td>great far charger seem last pretty good 3 year...</td>\n",
       "      <td>charger,galaxy,blackberry,chargers,1217,1212,s...</td>\n",
       "      <td>great far charger seem last pretty good 3 year...</td>\n",
       "      <td>0.191157</td>\n",
       "      <td>0.605900</td>\n",
       "    </tr>\n",
       "  </tbody>\n",
       "</table>\n",
       "</div>"
      ],
      "text/plain": [
       "           IC  Rating_Max  Rating_Mean  Rating  \\\n",
       "0  7508492919         5.0     4.300000     1.0   \n",
       "1  7532385086         5.0     3.285714     1.0   \n",
       "2  7887421268         5.0     3.538462     1.0   \n",
       "3  8199900164         5.0     3.750000     2.0   \n",
       "4  8288853439         5.0     3.818182     1.0   \n",
       "\n",
       "                                              Review  \\\n",
       "0  good case low price right never problems besid...   \n",
       "1  excited first got case loved color feel starte...   \n",
       "2  good itemreceived weeks time nice actually con...   \n",
       "3  thank youworks time charger stopped working da...   \n",
       "4  great far charger seem last pretty good 3 year...   \n",
       "\n",
       "                                            keywords  \\\n",
       "0  case,cute,bow,stones,pretty,compliments,phone,...   \n",
       "1  thisgoodi,arrivei,refund,phonereceived,snazzy,...   \n",
       "2  case,itemreceived,electromaster,spots,coversgo...   \n",
       "3  lolbought,chargingawesome,beeps,youworks,work,...   \n",
       "4  charger,galaxy,blackberry,chargers,1217,1212,s...   \n",
       "\n",
       "                                     text_lemmatized  polarity  subjectivity  \n",
       "0  good case low price right never problem beside...  0.300607      0.653035  \n",
       "1  excited first got case loved color feel starte...  0.261528      0.501121  \n",
       "2  good itemreceived week time nice actually cons...  0.313355      0.534117  \n",
       "3  thank youworks time charger stopped working da...  0.500000      0.500000  \n",
       "4  great far charger seem last pretty good 3 year...  0.191157      0.605900  "
      ]
     },
     "execution_count": 244,
     "metadata": {},
     "output_type": "execute_result"
    }
   ],
   "source": [
    "df6.head()"
   ]
  },
  {
   "cell_type": "code",
   "execution_count": 245,
   "metadata": {},
   "outputs": [],
   "source": [
    "df6.drop('text_lemmatized',inplace=True,axis=1)"
   ]
  },
  {
   "cell_type": "code",
   "execution_count": null,
   "metadata": {},
   "outputs": [],
   "source": []
  },
  {
   "cell_type": "code",
   "execution_count": null,
   "metadata": {},
   "outputs": [],
   "source": []
  },
  {
   "cell_type": "code",
   "execution_count": null,
   "metadata": {},
   "outputs": [],
   "source": []
  },
  {
   "cell_type": "markdown",
   "metadata": {},
   "source": [
    "# Final dataframe "
   ]
  },
  {
   "cell_type": "code",
   "execution_count": 246,
   "metadata": {},
   "outputs": [
    {
     "data": {
      "text/html": [
       "<div>\n",
       "<style scoped>\n",
       "    .dataframe tbody tr th:only-of-type {\n",
       "        vertical-align: middle;\n",
       "    }\n",
       "\n",
       "    .dataframe tbody tr th {\n",
       "        vertical-align: top;\n",
       "    }\n",
       "\n",
       "    .dataframe thead th {\n",
       "        text-align: right;\n",
       "    }\n",
       "</style>\n",
       "<table border=\"1\" class=\"dataframe\">\n",
       "  <thead>\n",
       "    <tr style=\"text-align: right;\">\n",
       "      <th></th>\n",
       "      <th>IC</th>\n",
       "      <th>Rating_Max</th>\n",
       "      <th>Rating_Mean</th>\n",
       "      <th>Rating</th>\n",
       "      <th>Review</th>\n",
       "      <th>keywords</th>\n",
       "      <th>polarity</th>\n",
       "      <th>subjectivity</th>\n",
       "    </tr>\n",
       "  </thead>\n",
       "  <tbody>\n",
       "    <tr>\n",
       "      <th>0</th>\n",
       "      <td>7508492919</td>\n",
       "      <td>5.0</td>\n",
       "      <td>4.300000</td>\n",
       "      <td>1.0</td>\n",
       "      <td>good case low price right never problems besid...</td>\n",
       "      <td>case,cute,bow,stones,pretty,compliments,phone,...</td>\n",
       "      <td>0.300607</td>\n",
       "      <td>0.653035</td>\n",
       "    </tr>\n",
       "    <tr>\n",
       "      <th>1</th>\n",
       "      <td>7532385086</td>\n",
       "      <td>5.0</td>\n",
       "      <td>3.285714</td>\n",
       "      <td>1.0</td>\n",
       "      <td>excited first got case loved color feel starte...</td>\n",
       "      <td>thisgoodi,arrivei,refund,phonereceived,snazzy,...</td>\n",
       "      <td>0.261528</td>\n",
       "      <td>0.501121</td>\n",
       "    </tr>\n",
       "    <tr>\n",
       "      <th>2</th>\n",
       "      <td>7887421268</td>\n",
       "      <td>5.0</td>\n",
       "      <td>3.538462</td>\n",
       "      <td>1.0</td>\n",
       "      <td>good itemreceived weeks time nice actually con...</td>\n",
       "      <td>case,itemreceived,electromaster,spots,coversgo...</td>\n",
       "      <td>0.313355</td>\n",
       "      <td>0.534117</td>\n",
       "    </tr>\n",
       "    <tr>\n",
       "      <th>3</th>\n",
       "      <td>8199900164</td>\n",
       "      <td>5.0</td>\n",
       "      <td>3.750000</td>\n",
       "      <td>2.0</td>\n",
       "      <td>thank youworks time charger stopped working da...</td>\n",
       "      <td>lolbought,chargingawesome,beeps,youworks,work,...</td>\n",
       "      <td>0.500000</td>\n",
       "      <td>0.500000</td>\n",
       "    </tr>\n",
       "    <tr>\n",
       "      <th>4</th>\n",
       "      <td>8288853439</td>\n",
       "      <td>5.0</td>\n",
       "      <td>3.818182</td>\n",
       "      <td>1.0</td>\n",
       "      <td>great far charger seem last pretty good 3 year...</td>\n",
       "      <td>charger,galaxy,blackberry,chargers,1217,1212,s...</td>\n",
       "      <td>0.191157</td>\n",
       "      <td>0.605900</td>\n",
       "    </tr>\n",
       "  </tbody>\n",
       "</table>\n",
       "</div>"
      ],
      "text/plain": [
       "           IC  Rating_Max  Rating_Mean  Rating  \\\n",
       "0  7508492919         5.0     4.300000     1.0   \n",
       "1  7532385086         5.0     3.285714     1.0   \n",
       "2  7887421268         5.0     3.538462     1.0   \n",
       "3  8199900164         5.0     3.750000     2.0   \n",
       "4  8288853439         5.0     3.818182     1.0   \n",
       "\n",
       "                                              Review  \\\n",
       "0  good case low price right never problems besid...   \n",
       "1  excited first got case loved color feel starte...   \n",
       "2  good itemreceived weeks time nice actually con...   \n",
       "3  thank youworks time charger stopped working da...   \n",
       "4  great far charger seem last pretty good 3 year...   \n",
       "\n",
       "                                            keywords  polarity  subjectivity  \n",
       "0  case,cute,bow,stones,pretty,compliments,phone,...  0.300607      0.653035  \n",
       "1  thisgoodi,arrivei,refund,phonereceived,snazzy,...  0.261528      0.501121  \n",
       "2  case,itemreceived,electromaster,spots,coversgo...  0.313355      0.534117  \n",
       "3  lolbought,chargingawesome,beeps,youworks,work,...  0.500000      0.500000  \n",
       "4  charger,galaxy,blackberry,chargers,1217,1212,s...  0.191157      0.605900  "
      ]
     },
     "execution_count": 246,
     "metadata": {},
     "output_type": "execute_result"
    }
   ],
   "source": [
    "df6.head()"
   ]
  },
  {
   "cell_type": "code",
   "execution_count": 247,
   "metadata": {},
   "outputs": [
    {
     "data": {
      "text/plain": [
       "(48133, 8)"
      ]
     },
     "execution_count": 247,
     "metadata": {},
     "output_type": "execute_result"
    }
   ],
   "source": [
    "df6.shape"
   ]
  },
  {
   "cell_type": "code",
   "execution_count": 250,
   "metadata": {},
   "outputs": [],
   "source": [
    "df6.to_json('ProjectOutput.json')"
   ]
  },
  {
   "cell_type": "code",
   "execution_count": null,
   "metadata": {},
   "outputs": [],
   "source": []
  },
  {
   "cell_type": "markdown",
   "metadata": {},
   "source": [
    "### Observation and Conclusion :\n",
    "    - In this dataset, I had follow all life cycle of a Data Science.\n",
    "    - I had done Data collection, Data cleaning, Data Extraction, Visualization and Model Building\n",
    "    - In this dataset as per requirements, I had come to final output as Product ID, Respective Rating (min,max,mean),\n",
    "      Review of the product, respective important top 20 keywords included sentiment value(Polarity and Subjectivity)\n",
    "    - In this I uses Vectorizer, TfIDF,lammatizer, numpy, pandas, seaborn, textblob etc.\n",
    "    - As per the review , most of the product is having positive sentiment towards the product also shown in last graph.\n",
    "    - I calculate the top keywords by using tfidf, so the highest dense value is taken.\n",
    "    - There are total 48133 products in the data set, so i Merge all respective review and generate the output, so that\n",
    "      we can have a look on total review of single product not on e by one review of all users.\n",
    "    - I merge all user review on a single product as per requirement\n",
    "    - In the final dataframe there are no null values.\n",
    "    - Most of the rating are above 5\n",
    "    - Most of the users traffic on the website is in year 2015 and 2016."
   ]
  },
  {
   "cell_type": "code",
   "execution_count": null,
   "metadata": {},
   "outputs": [],
   "source": []
  },
  {
   "cell_type": "code",
   "execution_count": null,
   "metadata": {},
   "outputs": [],
   "source": []
  },
  {
   "cell_type": "code",
   "execution_count": null,
   "metadata": {},
   "outputs": [],
   "source": []
  },
  {
   "cell_type": "code",
   "execution_count": null,
   "metadata": {},
   "outputs": [],
   "source": []
  },
  {
   "cell_type": "code",
   "execution_count": null,
   "metadata": {},
   "outputs": [],
   "source": []
  },
  {
   "cell_type": "code",
   "execution_count": null,
   "metadata": {},
   "outputs": [],
   "source": []
  },
  {
   "cell_type": "code",
   "execution_count": null,
   "metadata": {},
   "outputs": [],
   "source": []
  },
  {
   "cell_type": "code",
   "execution_count": null,
   "metadata": {},
   "outputs": [],
   "source": []
  },
  {
   "cell_type": "code",
   "execution_count": null,
   "metadata": {},
   "outputs": [],
   "source": []
  }
 ],
 "metadata": {
  "kernelspec": {
   "display_name": "Python 3",
   "language": "python",
   "name": "python3"
  },
  "language_info": {
   "codemirror_mode": {
    "name": "ipython",
    "version": 3
   },
   "file_extension": ".py",
   "mimetype": "text/x-python",
   "name": "python",
   "nbconvert_exporter": "python",
   "pygments_lexer": "ipython3",
   "version": "3.7.7"
  }
 },
 "nbformat": 4,
 "nbformat_minor": 4
}
